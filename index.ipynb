{
 "cells": [
  {
   "cell_type": "markdown",
   "id": "6fdbe1e3",
   "metadata": {},
   "source": [
    "# Synchrotron Techniques for Materials Characterisation\n",
    "\n",
    "This collection of jupyter notebooks constitute supplementary materials to the master's course [Synchrotron Techniques for Materials Characterisation](https://www.populationsgenetik.uni-rostock.de/) given by [Berit Zeller-Plumhoff](https://www.populationsgenetik.uni-rostock.de/) - University of Rostock - Chair of Data-driven Analysis and Design of Materials, Rostock, Germany. The sources of the notebooks, as well as installation and usage instructions can be found on [GitHub](https://github.com/cawi-hro/DADM_lecture_STMC)."
   ]
  },
  {
   "cell_type": "markdown",
   "id": "f00f86f4",
   "metadata": {},
   "source": [
    "### 1. Introduction\n",
    "\n",
    "### 2. Problem Definition\n",
    "\n",
    "### 3. Preparation of Audio Signals\n",
    "\n",
    "* [X-ray generation and interaction with matter](notebooks\\01_STMC_X-ray generation and interaction with matter.ipynb)\n",
    "* [Segmentation of signals](notebooks\\02_STMC_X-ray detection and imaging.ipynb)\n"
   ]
  },
  {
   "cell_type": "markdown",
   "id": "3bb8cd59",
   "metadata": {},
   "source": [
    "**Copyright**\n",
    "\n",
    "The contents are provided as [Open Educational Resource](https://de.wikipedia.org/wiki/Open_Educational_Resources).\n",
    "The text is licensed under [Creative Commons Attribution 4.0](https://creativecommons.org/licenses/by/4.0/)\n",
    ", the code of the IPython examples under the [MIT license](https://opensource.org/licenses/MIT).\n",
    "Feel free to use the entire collection, parts or even single notebooks for your\n",
    "own purposes."
   ]
  }
 ],
 "metadata": {
  "kernelspec": {
   "display_name": "Python 3 (ipykernel)",
   "language": "python",
   "name": "python3"
  },
  "language_info": {
   "codemirror_mode": {
    "name": "ipython",
    "version": 3
   },
   "file_extension": ".py",
   "mimetype": "text/x-python",
   "name": "python",
   "nbconvert_exporter": "python",
   "pygments_lexer": "ipython3",
   "version": "3.12.6"
  }
 },
 "nbformat": 4,
 "nbformat_minor": 5
}
