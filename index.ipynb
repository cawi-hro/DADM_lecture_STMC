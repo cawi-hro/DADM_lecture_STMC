{
 "cells": [
  {
   "cell_type": "markdown",
   "id": "6fdbe1e3",
   "metadata": {},
   "source": [
    "# Synchrotron Techniques for Materials Characterisation\n",
    "\n",
    "This collection of jupyter notebooks constitute supplementary materials to the master's course [Synchrotron Techniques for Materials Characterisation](https://www.populationsgenetik.uni-rostock.de/) given by [Berit Zeller-Plumhoff](https://www.populationsgenetik.uni-rostock.de/) - University of Rostock - Chair of Data-driven Analysis and Design of Materials, Rostock, Germany. The sources of the notebooks, as well as installation and usage instructions can be found on [GitHub](https://github.com/cawi-hro/DADM_lecture_STMC)."
   ]
  },
  {
   "cell_type": "markdown",
   "id": "f00f86f4",
   "metadata": {},
   "source": [
    "### Lectures\n",
    "\n",
    "* [Lecture 01 - Overview](lectures/20241016_Overview.pdf)\n",
    "* [Lecture 02 - X-Ray Generation](lectures/20241023_Xraygeneration.pdf)\n",
    "\n",
    "### Excercises\n",
    "\n",
    "* [Working with Jupyter Notebooks](exercises/00_STMC_Working_with_Jupyter_Notebooks.ipynb)\n",
    "* [Exercise 01 - X-ray generation and interaction with matter](exercises/01_STMC_X-ray_generation_and_interaction_with_matter.ipynb) | [[Solution]](exercises/solutions/01_STMC_X-ray_generation_and_interaction_with_matter_solution.ipynb)\n",
    "<!---\n",
    "* [Exercise 02 - X-ray detection and imaging](exercises/02_STMC_X-ray_detection_and_imaging.ipynb) | [[Solution]](exercises/solutions/02_STMC_X-ray_detection_and_imaging.ipynb)\n",
    "* [Exercise 03 - X-ray tomography - part 1](exercises/03_STMC_X-ray_tomography_part_1.ipynb) | [[Solution]](exercises/solutions/03_STMC_X-ray_tomography_part_1.ipynb)\n",
    "* [Exercise 04 - X-ray tomography - part 2](exercises/03_STMC_X-ray_tomography_part_2.ipynb) | [[Solution]](exercises/solutions/03_STMC_X-ray_tomography_part_2.ipynb)\n",
    "* [Exercise 05 - X-ray tomography and diffraction](exercises/05_STMC_X-ray_tomography_and_diffraction.ipynb) | [[Solution]](exercises/solutions/05_STMC_X-ray_tomography_and_diffraction.ipynb)\n",
    "* [Exercise 06 - X-ray diffraction](exercises/06_STMC_X-ray_diffraction.ipynb) | [[Solution]](exercises/solutions/06_STMC_X-ray_diffraction.ipynb)\n",
    "* [Exercise 07 - Small angle X-ray scattering](exercises/07_STMC_Small_angle_X-ray_scattering.ipynb) | [[Solution]](exercises/solutions/07_STMC_Small_angle_X-ray_scattering.ipynb)\n",
    "* [Exercise 08 - Image processing basics](exercises/08_STMC_Image_processing_basics.ipynb) | [[Solution]](exercises/solutions/08_STMC_Image_processing_basics.ipynb)\n",
    "* [Exercise 09 - Image processing filters](exercises/09_STMC_Image_processing_filters.ipynb) | [[Solution]](exercises/solutions/09_STMC_Image_processing_filters.ipynb)\n",
    "* [Exercise 10 - Image processing segmentation and morphological operators](exercises/solutions/10_STMC_Image_processing_segmentation_and_morphological_operators.ipynb) | [[Solution]](exercises/solutions/10_STMC_Image_processing_segmentation_and_morphological_operators.ipynb)\n",
    "-->"
   ]
  },
  {
   "cell_type": "markdown",
   "id": "3bb8cd59",
   "metadata": {},
   "source": [
    "**Copyright**\n",
    "\n",
    "The contents are provided as [Open Educational Resource](https://de.wikipedia.org/wiki/Open_Educational_Resources).\n",
    "The text is licensed under [Creative Commons Attribution 4.0](https://creativecommons.org/licenses/by/4.0/)\n",
    ", the code of the IPython examples under the [MIT license](https://opensource.org/licenses/MIT).\n",
    "Feel free to use the entire collection, parts or even single notebooks for your\n",
    "own purposes."
   ]
  }
 ],
 "metadata": {
  "kernelspec": {
   "display_name": "Python 3 (ipykernel)",
   "language": "python",
   "name": "python3"
  },
  "language_info": {
   "codemirror_mode": {
    "name": "ipython",
    "version": 3
   },
   "file_extension": ".py",
   "mimetype": "text/x-python",
   "name": "python",
   "nbconvert_exporter": "python",
   "pygments_lexer": "ipython3",
   "version": "3.12.6"
  }
 },
 "nbformat": 4,
 "nbformat_minor": 5
}
