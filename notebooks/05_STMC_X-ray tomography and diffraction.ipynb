{
 "cells": [
  {
   "cell_type": "markdown",
   "id": "27c66b98",
   "metadata": {},
   "source": [
    "## X-ray tomography and diffraction\n"
   ]
  },
  {
   "cell_type": "markdown",
   "id": "f32312b2",
   "metadata": {},
   "source": [
    "We begin by loading the libraries you will require later on for your calculations."
   ]
  },
  {
   "cell_type": "code",
   "execution_count": 2,
   "id": "05276ddc",
   "metadata": {},
   "outputs": [],
   "source": [
    "# import required libraries\n",
    "import matplotlib.pyplot as plt\n",
    "import numpy as np"
   ]
  },
  {
   "cell_type": "markdown",
   "id": "fd228dbc",
   "metadata": {},
   "source": [
    "### Exercise 1\n",
    "\n",
    "The following cell imports a function to simulate the forward propagation of the X-rays following interaction with an object using the Fresnel propagator. __Please note, that this function test_simulation_adapted.py does not fall under the MIT license and may not be shared outside this course.__\n",
    "\n",
    "Last week, you varied the inputs z01 and z02 (in nm) which relate the the SOD and SDD in the lecture for cone-beam imaging and saw how the propagated image changes. This week, change the material the function simulates to gold and teflon and vary its thickness to see how the propagated image changes. You may also try to use two discs of two different materials as the object. Please modify the function as required."
   ]
  },
  {
   "cell_type": "code",
   "execution_count": null,
   "id": "dee85c9a",
   "metadata": {},
   "outputs": [],
   "source": [
    "import test_simulation_adapted\n"
   ]
  },
  {
   "cell_type": "markdown",
   "id": "acd21fd9",
   "metadata": {},
   "source": [
    "### Exercise 2\n",
    "\n",
    "A binary Fresnel zone plate has an outer zone width of 50 nm and a depth of 20 times the width, filled with Au, and delivers an absolute phase shift of $k\\delta l=\\pi$, with $k$ the wave number, $\\delta$ the refractive index increment and $l$ the depth of the zone plate. The diameter $D$ of the lens is 100 µm. Determine the wavelength $\\lambda$ and the first order focal length $f$. Estimate the depth of focus. Please explain all your assumptions.\n",
    "\n",
    "Make use of the fact that the real part of the refractive index increment for purely scattering media is $\\delta=\\frac{2\\pi\\rho r_0}{k^2}$, where $\\rho=4.687$ electrons/Å$^3$ is the electron density of Au and $r_0=2.82\\cdot10^{-5}$ Å, is the scattering amplitude per electron. The depth of focus can be estimated as the resolution divided by the aperture of the zone plates, where the aperture is $D/f$.\n",
    "    \n",
    "This question was taken from Elements of Modern X‐ray Physics by J. Als-Nielsen and D. McMorrow (Second Edition, Chapter 9, DOI: 10.1002/9781119998365)."
   ]
  },
  {
   "cell_type": "code",
   "execution_count": null,
   "id": "997e330a",
   "metadata": {},
   "outputs": [],
   "source": []
  },
  {
   "cell_type": "markdown",
   "id": "2610c054",
   "metadata": {},
   "source": [
    "### Exercise 3\n",
    "\n",
    "The file _AMS\\_DATA\\_zincite.txt_ contains information on the diffraction properties of ZnO (zincite), taken from the AMS database. The d-spacing is given in \\AA. Given a line detector, compute which lateral translation is required for different detector distances, ranging from 0.5 to 10 cm (in 0.5 cm steps), to measure the (200) reflection in the middle of the detector for photon energies between 5 and 80 keV (in 1 keV steps). By default, the middle of the detector is aligned with the undiffracted beam. Plot both distances vs. the energy in a 3D plot.  You may need the following constants: speed of light $c = 3\\cdot10^{8}$ m/s and Planck's constant $h=4.136\\cdot10^{-15}$ eV$\\cdot$s"
   ]
  }
 ],
 "metadata": {
  "kernelspec": {
   "display_name": "Python 3 (ipykernel)",
   "language": "python",
   "name": "python3"
  },
  "language_info": {
   "codemirror_mode": {
    "name": "ipython",
    "version": 3
   },
   "file_extension": ".py",
   "mimetype": "text/x-python",
   "name": "python",
   "nbconvert_exporter": "python",
   "pygments_lexer": "ipython3",
   "version": "3.9.13"
  }
 },
 "nbformat": 4,
 "nbformat_minor": 5
}
