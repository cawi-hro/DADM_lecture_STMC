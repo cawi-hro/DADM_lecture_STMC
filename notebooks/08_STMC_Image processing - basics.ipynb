{
 "cells": [
  {
   "cell_type": "markdown",
   "id": "ca6dd74b",
   "metadata": {},
   "source": [
    "## Image processing - basics"
   ]
  },
  {
   "cell_type": "markdown",
   "id": "5167d6b5",
   "metadata": {},
   "source": [
    "This exercise sheet is based on the \"Synchrotron techniques for materials characterization\" lecture that was recorded for 13th January 2023. By going through this jupyter notebook and filling in the blanks you will learn how to assess basic properties of your image, perform simple image operations, assess the image quality quantitatively and apply a mean template filter.\n",
    "\n",
    "The example code and solutions were created by André Lopes Marinho and Berit Zeller-Plumhoff."
   ]
  },
  {
   "cell_type": "markdown",
   "id": "4dd10be3",
   "metadata": {},
   "source": [
    "### Loading required libraries"
   ]
  },
  {
   "cell_type": "markdown",
   "id": "f2054f08",
   "metadata": {},
   "source": [
    "You will require the following libraries. If loading any of them fails, please use pip install to install any missing libraries."
   ]
  },
  {
   "cell_type": "code",
   "execution_count": null,
   "id": "581e3de1",
   "metadata": {},
   "outputs": [],
   "source": [
    "# Importing libraries\n",
    "import numpy as np\n",
    "import math\n",
    "import matplotlib.pyplot as plt\n",
    "import ipympl\n",
    "import imageio.v3 as iio\n",
    "import skimage\n",
    "from skimage import draw"
   ]
  },
  {
   "cell_type": "markdown",
   "id": "3f8dfb38",
   "metadata": {},
   "source": [
    "### Loading images and basic properties"
   ]
  },
  {
   "cell_type": "markdown",
   "id": "440283b0",
   "metadata": {},
   "source": [
    "The first task will be to write a function that will automatically load and display an image based on the image path that will be provided as an argument to the function.\n",
    "\n",
    "Please fill in the missing lines as indicated in the comments to load the image."
   ]
  },
  {
   "cell_type": "code",
   "execution_count": null,
   "id": "bc860e11-3daf-4301-92b1-3978b70c7b40",
   "metadata": {},
   "outputs": [],
   "source": [
    "# Jupyter Magic Command that will ensure our images display in our Jupyter \n",
    "# document with pixel information that will help us to run commands more efficiently\n",
    "%matplotlib widget \n",
    "\n",
    "def load_and_show_image(path):\n",
    "    \"\"\"Loads and shows an image given a defined path.\n",
    "\n",
    "    Args:\n",
    "        path(string): String containing path for images with proper file extension. \n",
    "            Example: \"images/*.tif\"\n",
    "\n",
    "    Returns: \n",
    "        numpy.ndarray: Array with image defined in path.\n",
    "    \"\"\"\n",
    "    \n",
    "    # We will use the skimage library to read our image\n",
    "    # use the iio.imread function to read in the image and use matplotlib to display in in greyscale\n",
    "\n",
    "    \n",
    "    print(path + ' was loaded successfully.')\n",
    "    \n",
    "    return image"
   ]
  },
  {
   "cell_type": "markdown",
   "id": "34aab095",
   "metadata": {},
   "source": [
    "Once the image is loaded, we can assess it shape using the .shape command and the type of the image using the .dtype command. Find out what values the commands returns based on different example images that are provided in the test_images folder."
   ]
  },
  {
   "cell_type": "code",
   "execution_count": null,
   "id": "21ede75d",
   "metadata": {},
   "outputs": [],
   "source": [
    "%matplotlib widget \n",
    "\n",
    "# load the image\n",
    "\n",
    "# try to assess the shape and type of the ima"
   ]
  },
  {
   "cell_type": "markdown",
   "id": "f48dac2d",
   "metadata": {},
   "source": [
    "Write a short function that prints the image type, height, width and number of channels for any given input image."
   ]
  },
  {
   "cell_type": "code",
   "execution_count": null,
   "id": "41735934",
   "metadata": {},
   "outputs": [],
   "source": [
    "def print_image_props(image):\n",
    "    \"\"\"Displays image type, height, width and number of channels given an image.\n",
    "\n",
    "    Args:\n",
    "        image(variablename): variable name of an image\n",
    "    \"\"\"\n",
    "    # The method 'iio.imread' returns an numpy.ndarray, so we can perform array operations on the variable\n",
    "    # 'image', like showing the number of channels/depth of the image.\n",
    "    \n",
    "    \n",
    "    \n",
    "\n",
    "    # With this information, we can also print some image properties\n",
    "    # fill in the information that should be printed\n",
    "    if len(image_shape) > 2:\n",
    "        print('Type =', )\n",
    "        print('Height =', )\n",
    "        print('Width =', )\n",
    "        print('# of channels =', )\n",
    "    else:\n",
    "        print('Type =', )\n",
    "        print('Height =', )\n",
    "        print('Width =', )\n",
    "        print('# of channels =', )"
   ]
  },
  {
   "cell_type": "code",
   "execution_count": null,
   "id": "80091055",
   "metadata": {},
   "outputs": [],
   "source": [
    "# load an image and print its properties\n"
   ]
  },
  {
   "cell_type": "markdown",
   "id": "e3e6207b",
   "metadata": {},
   "source": [
    "### Histogram"
   ]
  },
  {
   "cell_type": "markdown",
   "id": "9e14297c",
   "metadata": {},
   "source": [
    "In addition to assessing the general image properties, we are usually interested in knowing the greyscale distribution, i.e. the histogram, which gives us a first impression of image quality in terms of contrast and segmentability.\n",
    "\n",
    "In this following code snipped complete the function to evaluate and the histogram of an image that is input into the function as a numpy.ndarray."
   ]
  },
  {
   "cell_type": "code",
   "execution_count": null,
   "id": "43ee674a-aa96-439e-89b8-5871281a8e1d",
   "metadata": {},
   "outputs": [],
   "source": [
    "def show_histogram(image):\n",
    "    \"\"\"Showns an histogram given an image. This method considers the image will be\n",
    "        either grayscale or RGB\n",
    "\n",
    "    Args:\n",
    "        img(numpy.ndarray): Image represented by array\n",
    "\n",
    "    Returns: \n",
    "        None\n",
    "    \"\"\"\n",
    "    \n",
    "    # First, we need to know if the image is grayscale or RGB\n",
    "    # use the shape function to do so\n",
    "    \n",
    "    # Next, we can define some properties of our histogram figure\n",
    "    # create an empty figure using matplotlib with title, xlabel, ylabel and set the limits of the x-axis\n",
    "        \n",
    "    # Finally, create a histrogram using the numpy histogram function and plot it\n",
    "    # use a bin number of 256 in all cases\n",
    "    if len(image_shape) > 2:\n",
    "        colors = (\"red\", \"green\", \"blue\")\n",
    "        for (channel_id, color) in enumerate(colors):\n",
    "            \n",
    "    else:\n",
    "         \n",
    "        \n",
    "    return None"
   ]
  },
  {
   "cell_type": "markdown",
   "id": "a177b526",
   "metadata": {},
   "source": [
    "Now load a couple of test images and display their histogram using the functions you have adapted."
   ]
  },
  {
   "cell_type": "code",
   "execution_count": null,
   "id": "c7d2c32c-c93a-49f5-81a7-4e5b0d787d3e",
   "metadata": {},
   "outputs": [],
   "source": [
    "%matplotlib widget \n",
    "\n",
    "# Load an image and show its histogram\n"
   ]
  },
  {
   "cell_type": "markdown",
   "id": "19cac0ba",
   "metadata": {},
   "source": [
    "### Simple image operations"
   ]
  },
  {
   "cell_type": "markdown",
   "id": "813fc65f",
   "metadata": {},
   "source": [
    "Once we are able to load an image and assess its properties as well as its histogram, we can perform a number of matrix operations on it.\n",
    "\n",
    "As shown as an example in the lecture, perform the following operation for the image $A$: $$A_{new}=\\frac{A}{4}+100$$ (make sure that the matrix dimensions fit).\n",
    "\n",
    "Use both the \"bone_16bit.png\" image and the \"A1_test.png\" image as input. Comment on how the image operation has changed the original image in both cases."
   ]
  },
  {
   "cell_type": "code",
   "execution_count": null,
   "id": "a9f541c5-4d98-494d-a2f3-e4cdc23b37e0",
   "metadata": {},
   "outputs": [],
   "source": [
    "%matplotlib widget \n",
    "\n",
    "# load the image\n",
    "\n",
    "\n",
    "# perform the operation\n",
    "\n",
    "\n",
    "# show the image and print the properties and show the histogram\n"
   ]
  },
  {
   "cell_type": "markdown",
   "id": "21744567",
   "metadata": {},
   "source": [
    "Similarly, as shown in the lecture perform the operation $$A_{new}=A*2$$"
   ]
  },
  {
   "cell_type": "code",
   "execution_count": null,
   "id": "39b67bf1",
   "metadata": {},
   "outputs": [],
   "source": [
    "%matplotlib widget \n",
    "\n",
    "# perform the operation\n",
    "\n",
    "\n",
    "# show the image and print the properties and show the histogram\n"
   ]
  },
  {
   "cell_type": "markdown",
   "id": "0afb1106",
   "metadata": {},
   "source": [
    "In addition to adding or multiplying an image with scalars, we can add/subtract/multiply/divide images. This is a task performed often for example during the flat and dark field correction of projections prior to the 3D reconstruction of images.\n",
    "\n",
    "In the next task, please perform this correction of the projection \"proj.png\" in the test_images folder. In the same folder you will find the corresponding \"dark\" and \"flat\" image. Compare how the histogram of the projection changes due to the correction and comment on this based on what you observe qualitatively in the image."
   ]
  },
  {
   "cell_type": "code",
   "execution_count": null,
   "id": "19fa32cb",
   "metadata": {},
   "outputs": [],
   "source": [
    "# flat and dark fiel corrections\n",
    "# load required images\n",
    "\n",
    "%matplotlib widget \n"
   ]
  },
  {
   "cell_type": "code",
   "execution_count": null,
   "id": "af0cf004",
   "metadata": {},
   "outputs": [],
   "source": [
    "# perform correction operation and display the result\n",
    "%matplotlib widget \n"
   ]
  },
  {
   "cell_type": "code",
   "execution_count": null,
   "id": "6519d044",
   "metadata": {},
   "outputs": [],
   "source": [
    "# show the histogram of the original and the corrected projection\n",
    "%matplotlib widget "
   ]
  },
  {
   "cell_type": "markdown",
   "id": "8318bfed",
   "metadata": {},
   "source": [
    "### Image quality"
   ]
  },
  {
   "cell_type": "markdown",
   "id": "78056d49",
   "metadata": {},
   "source": [
    "In addition to assessing the image histogram, we want to assess the image quality quantitatively. We can do so by calculating the signal-to-noise ratio (SNR) and contrast-to-noise ratio (CNR) for different regions of our image. In the following, you need to add missing code to two functions which will compuate SNR and CNR following the input of two image regions, respectively. We choose the following definitions of SNR and CNR: $$SNR = \\frac{S_i}{0.5\\sqrt{\\sigma_i^2+\\sigma_{bg}^2}}$$ and $$CNR = \\frac{|S_i-S_j|}{0.5\\sqrt{\\sigma_i^2+\\sigma_j^2}}$$\n",
    "where $S_i$ and $S_j$ are the mean greyscale values of the regions $i$ and $j$ and the respective $\\sigma$ the standard deviation of the greyscale values. For the SNR we attain the overall noise by taking into account the background noise too."
   ]
  },
  {
   "cell_type": "code",
   "execution_count": null,
   "id": "7a917861-ea99-4ca2-8d55-89ceec31e0f7",
   "metadata": {},
   "outputs": [],
   "source": [
    "def get_signal_to_noise_ratio(region_i, region_bg):\n",
    "    \"\"\"Calculates Signal-to-Noise Ratio (SNR) by the following expression:\n",
    "    \n",
    "                SNR = |mean(region_i)| / 0.5*[sqrt(stdev(region_i)^2 + stdev(region_bg)^2)]                  \n",
    "                 \n",
    "    Args:\n",
    "        region_i(numpy.ndarray): Array slice defining region i\n",
    "        region_bg(numpy.ndarray): Array slice defining background region\n",
    "    Returns: \n",
    "        double: SNR value\n",
    "    \"\"\"\n",
    "    \n",
    "    # calculate the mean value of region_i\n",
    "    a = # add equation\n",
    "    # calculate the denominator of the SNR\n",
    "    b = # add equation\n",
    "    \n",
    "    # compute and return the SNR\n",
    "    SNR = a / b\n",
    "    \n",
    "    return SNR\n",
    "\n",
    "\n",
    "def get_contrast_to_noise_ratio(region_i, region_j):\n",
    "    \"\"\"Calculates Contrast-to-Noise Ratio (CNR) by the following expression:\n",
    "    \n",
    "                CNR = |mean(region_i) - mean(region_j)| / 0.5*[sqrt(stdev(region_i)^2 + stdev(region_j)^2)]                  \n",
    "                 \n",
    "    Args:\n",
    "        region_i(numpy.ndarray): Array slice defining region i\n",
    "        region_bg(numpy.ndarray): Array slice defining region j\n",
    "    Returns: \n",
    "        double: CNR value\n",
    "    \"\"\"\n",
    "    \n",
    "    # calculate the numerator of the CNR\n",
    "    a = # add equation\n",
    "    # calculate the denominator of the CNR\n",
    "    b = # add equation\n",
    "    \n",
    "    # compute and return the CNR\n",
    "    CNR = a / b\n",
    "    \n",
    "    return CNR"
   ]
  },
  {
   "cell_type": "markdown",
   "id": "58754e1c",
   "metadata": {},
   "source": [
    "Based on the functions you have just created please calculate both SNR and CNR between the four quadrants of the image SNR_CNR.tif in the folder test_images. Overall, you should create four or six comparisons for SNR and CNR, respectively. To calculate the SNR you may assume that the darkest image quadrant is the background.\n",
    "\n",
    "In order to use the functions you must identify the regions within the image. Identify the image dimensions to do so."
   ]
  },
  {
   "cell_type": "code",
   "execution_count": null,
   "id": "25f7aace",
   "metadata": {},
   "outputs": [],
   "source": [
    "# load and display the image\n",
    "\n",
    "%matplotlib widget \n",
    "\n",
    "# load image\n",
    "\n",
    "# print image properties"
   ]
  },
  {
   "cell_type": "code",
   "execution_count": null,
   "id": "feacf5e2",
   "metadata": {},
   "outputs": [],
   "source": [
    "# define four regions based on the image and its dimensions\n",
    "%matplotlib widget \n"
   ]
  },
  {
   "cell_type": "code",
   "execution_count": null,
   "id": "833e0f05",
   "metadata": {},
   "outputs": [],
   "source": [
    "# calculate all SNR and CNR\n",
    "\n",
    "# print the computed values\n",
    "# SNR\n",
    "\n",
    "# CNR\n"
   ]
  },
  {
   "cell_type": "markdown",
   "id": "b5e580f5",
   "metadata": {},
   "source": [
    "Please comment on the values that you have obtained."
   ]
  },
  {
   "cell_type": "markdown",
   "id": "70e3fcb9",
   "metadata": {},
   "source": [
    "In the next task, use image \"A1_test2.png\" and calculate the CNR for root vs. soil, root vs. background and soil vs. background. Please comment on why you are selecting specific regions and comment on your results."
   ]
  },
  {
   "cell_type": "code",
   "execution_count": null,
   "id": "a53adfbe-8a40-4120-b61d-e3d77b2940cf",
   "metadata": {},
   "outputs": [],
   "source": [
    "%matplotlib widget \n",
    "\n",
    "# load image\n",
    "\n",
    "# check image properties"
   ]
  },
  {
   "cell_type": "code",
   "execution_count": null,
   "id": "4d808d5b",
   "metadata": {},
   "outputs": [],
   "source": [
    "# Select different regions from the image and calculate SNR and CNR values\n",
    "\n",
    "# Regions\n",
    "air = # define region \n",
    "soil = # define region \n",
    "root = # define region \n",
    "\n",
    "# Visualizing them on the image\n",
    "\n",
    "img_aux = earth.copy()\n",
    "\n",
    "row_air, col_air = skimage.draw.rectangle_perimeter(start=(75, 185), end=(100, 210))\n",
    "row_soil, col_soil = skimage.draw.rectangle_perimeter(start=(75, 110), end=(100, 135))\n",
    "row_root, col_root = skimage.draw.rectangle_perimeter(start=(55, 70), end=(75, 90))\n",
    "\n",
    "# For better vizualization\n",
    "\n",
    "fig, ax = plt.subplots()\n",
    "ax.imshow(img_aux, cmap = 'gray')\n",
    "ax.plot(col_air, row_air, '-r')\n",
    "ax.plot(col_soil, row_soil, '-g')\n",
    "ax.plot(col_root, row_root, '-b')\n",
    "\n",
    "# Calculate CNR\n",
    "\n",
    "# CNR - Soil and Root \n",
    "CNR1 = # compute\n",
    "print('CNR soil vs. root: ', np.round(CNR1))\n",
    "\n",
    "# CNR - Soil and Air\n",
    "CNR2 = # compute\n",
    "print('CNR soil vs. air: ', np.round(CNR2,2))\n",
    "\n",
    "# CNR - Air and Root \n",
    "CNR3 = # compute\n",
    "print('CNR air vs. root: ', np.round(CNR3,2))"
   ]
  },
  {
   "cell_type": "markdown",
   "id": "0513c911",
   "metadata": {},
   "source": [
    "### Image filters"
   ]
  },
  {
   "cell_type": "markdown",
   "id": "0de263b5",
   "metadata": {},
   "source": [
    "If the image quality that we have determined is insufficient, e.g. if the CNR is particularly low, we can apply filters to improve the noise level while maintaining the sharpness of the features we are interested in. To do so, you will complete a function that defines a mean filter which is applied as a quadratic kernel template to the image. The function takes the original image and the filter kernel size as input and outputs the filtered image. You can move the template across the image in a scanning manner - in order to adjust for the edges correctly, you should apply a zero padding at the image borders."
   ]
  },
  {
   "cell_type": "code",
   "execution_count": null,
   "id": "3d07af47-4b19-4c14-96bc-230595b241b2",
   "metadata": {},
   "outputs": [],
   "source": [
    "def mean_filter(image, filter_size):\n",
    "    \"\"\"Applies mean filter in a given image.\n",
    "                 \n",
    "    Args:\n",
    "        image(numpy.ndarray): Image to be filtered\n",
    "        filter_size(numpy.ndarray): Size of kernel\n",
    "    Returns: \n",
    "        numpy.ndarray: Filtered image\n",
    "    \"\"\"\n",
    "    \n",
    "    temp = []\n",
    "    padding = filter_size // 2\n",
    "    img_final = np.zeros((image.shape))\n",
    "    \n",
    "    # create an auxiliary image that is an enlarged copy of the original based on the required padding.\n",
    "    img_aux= # add\n",
    " \n",
    "    # move the template across the image and save the values of the template in the value temp that is then evaluated\n",
    "    for i in range(image.shape[0]):\n",
    "        for j in range(image.shape[1]):\n",
    "            temp= # save template entries\n",
    "            img_final[i][j] = # apply mean\n",
    "            \n",
    "    return img_final"
   ]
  },
  {
   "cell_type": "markdown",
   "id": "d6fccb1e",
   "metadata": {},
   "source": [
    "Apply the filter to the image \"A1_test2.png\" with different kernel sizes and plot both the original and the filtered image next to each other."
   ]
  },
  {
   "cell_type": "code",
   "execution_count": null,
   "id": "936912df",
   "metadata": {},
   "outputs": [],
   "source": [
    "### %matplotlib widget \n",
    "\n",
    "# Mean filter\n",
    "img_mean = # apply filter\n",
    "\n",
    "# Plot your results to compare each one\n",
    "# plot the original image and the filtered image next to each other"
   ]
  },
  {
   "cell_type": "markdown",
   "id": "67d5076f",
   "metadata": {},
   "source": [
    "Finally, compute the CNR again for the regions your defined on the image previously and comment on how a mean filter with kernel size 3 has changed the CNR values."
   ]
  },
  {
   "cell_type": "code",
   "execution_count": null,
   "id": "fee39983",
   "metadata": {},
   "outputs": [],
   "source": [
    "# Select different regions from the image and calculate SNR and CNR values\n",
    "\n",
    "# Regions\n",
    "air2 = # define region \n",
    "soil2 = # define region \n",
    "root2 = # define region \n",
    "\n",
    "# Visualizing them on the image\n",
    "\n",
    "img_aux = img_mean.copy()\n",
    "\n",
    "row_air, col_air = skimage.draw.rectangle_perimeter(start=(75, 185), end=(100, 210))\n",
    "row_soil, col_soil = skimage.draw.rectangle_perimeter(start=(75, 110), end=(100, 135))\n",
    "row_root, col_root = skimage.draw.rectangle_perimeter(start=(55, 70), end=(75, 90))\n",
    "\n",
    "# For better vizualization\n",
    "\n",
    "fig, ax = plt.subplots()\n",
    "ax.imshow(img_aux, cmap = 'gray')\n",
    "ax.plot(col_air, row_air, '-r')\n",
    "ax.plot(col_soil, row_soil, '-g')\n",
    "ax.plot(col_root, row_root, '-b')\n",
    "\n",
    "# Calculate CNR\n",
    "\n",
    "# CNR - Soil and Root \n",
    "CNR1_mean = #\n",
    "print('CNR soil vs. root after filtering: ', np.round(CNR1_mean,2))\n",
    "\n",
    "# CNR - Soil and Air\n",
    "CNR2_mean = #\n",
    "print('CNR soil vs. air after filtering: ', np.round(CNR2_mean,2))\n",
    "\n",
    "# CNR - Air and Root \n",
    "CNR3_mean = #\n",
    "print('CNR air vs. root after filtering: ', np.round(CNR3_mean,2))"
   ]
  }
 ],
 "metadata": {
  "kernelspec": {
   "display_name": "Python 3 (ipykernel)",
   "language": "python",
   "name": "python3"
  },
  "language_info": {
   "codemirror_mode": {
    "name": "ipython",
    "version": 3
   },
   "file_extension": ".py",
   "mimetype": "text/x-python",
   "name": "python",
   "nbconvert_exporter": "python",
   "pygments_lexer": "ipython3",
   "version": "3.9.13"
  }
 },
 "nbformat": 4,
 "nbformat_minor": 5
}
