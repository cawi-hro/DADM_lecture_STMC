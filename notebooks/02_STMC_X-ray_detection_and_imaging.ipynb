{
 "cells": [
  {
   "cell_type": "markdown",
   "id": "27c66b98",
   "metadata": {},
   "source": [
    "## X-ray detection and imaging"
   ]
  },
  {
   "cell_type": "markdown",
   "id": "f32312b2",
   "metadata": {},
   "source": [
    "We begin by loading the libraries you will require lateron for your calculations."
   ]
  },
  {
   "cell_type": "code",
   "execution_count": null,
   "id": "05276ddc",
   "metadata": {},
   "outputs": [],
   "source": [
    "# import required libraries\n",
    "import matplotlib.pyplot as plt\n",
    "import numpy as np\n",
    "import pandas as pd"
   ]
  },
  {
   "cell_type": "markdown",
   "id": "fd228dbc",
   "metadata": {},
   "source": [
    "### Exercise 1\n",
    "\n",
    "Select three of the requirements for X-ray scintillators and give detailed reasoning why these are important."
   ]
  },
  {
   "cell_type": "code",
   "execution_count": null,
   "id": "825ca395",
   "metadata": {},
   "outputs": [],
   "source": []
  },
  {
   "attachments": {},
   "cell_type": "markdown",
   "id": "ad71fc4a",
   "metadata": {},
   "source": [
    "### Exercise 2\n",
    "\n",
    "The refractive index components for gold at different energies are given in the following table:\n",
    "\n",
    "| Energy (keV) | Delta | Beta |\n",
    "| --- | --- | --- |\n",
    "| 10 | 2.99E-05 | 2.21E-06 |\n",
    "| 15 | 1.35E-05 | 2.02E-06 |\n",
    "| 20 | 7.95E-06 | 7.26E-07 |\n",
    "| 25 | 5.13E-06 | 3.23E-07 |\n",
    "| 30 | 3.56E-06 | 1.65E-07 |\n",
    "\n",
    "Please calculate the linear attenuation coefficient of gold at the given X-ray energies keV, indicating all assumption you are making and stating all used parameter values. Based on the attenuation coefficient, calculate the maximum thickness of a gold wire to be imaged using X-ray computed tomography, such that a transmission ($I/I_0$) of 10\\% is ensured at all times. Note that the speed of light $c=2.998\\cdot10^{8}$ m/s and Planck's constant $h=4.136\\cdot10^{-15}$ eV$\\cdot$s. Please explain any non-linear behaviour that you may notice in the assessment of the energies."
   ]
  },
  {
   "cell_type": "code",
   "execution_count": null,
   "id": "951b4f35",
   "metadata": {},
   "outputs": [],
   "source": []
  },
  {
   "cell_type": "markdown",
   "id": "3bbff9b7",
   "metadata": {},
   "source": [
    "### Exercise 3\n",
    "\n",
    "It was very inconvenient to have to manually type the values of the exercise above into arrays. Go to [https://henke.lbl.gov/optical_constants/getdb2.html] and extract a text file for the refractive index components of magnesium, gadolinium and gold.  Use the pandas instead to read in the text files and plot the both refractive index components for the three materials against each other. What do you observe?"
   ]
  },
  {
   "cell_type": "code",
   "execution_count": null,
   "id": "922a5571",
   "metadata": {},
   "outputs": [],
   "source": []
  }
 ],
 "metadata": {
  "kernelspec": {
   "display_name": ".venv",
   "language": "python",
   "name": "python3"
  },
  "language_info": {
   "codemirror_mode": {
    "name": "ipython",
    "version": 3
   },
   "file_extension": ".py",
   "mimetype": "text/x-python",
   "name": "python",
   "nbconvert_exporter": "python",
   "pygments_lexer": "ipython3",
   "version": "3.12.7"
  }
 },
 "nbformat": 4,
 "nbformat_minor": 5
}
