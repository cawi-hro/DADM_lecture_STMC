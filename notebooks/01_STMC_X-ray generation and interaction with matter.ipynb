{
 "cells": [
  {
   "cell_type": "markdown",
   "id": "27c66b98",
   "metadata": {},
   "source": [
    "## X-ray generation and interaction with matter\n",
    "\n",
    "This notebook is shared under the MIT-license. Copyright (C) 2023, B. Zeller-Plumhoff\n",
    "\n",
    "Permission is hereby granted, free of charge, to any person obtaining a copy of this software and associated documentation files (the \"Software\"), to deal in the Software without restriction, including without limitation the rights to use, copy, modify, merge, publish, distribute, sublicense, and/or sell copies of the Software, and to permit persons to whom the Software is furnished to do so, subject to the following conditions:\n",
    "\n",
    "The above copyright notice and this permission notice shall be included in all copies or substantial portions of the Software.\n",
    "\n",
    "THE SOFTWARE IS PROVIDED \"AS IS\", WITHOUT WARRANTY OF ANY KIND, EXPRESS OR IMPLIED, INCLUDING BUT NOT LIMITED TO THE WARRANTIES OF MERCHANTABILITY, FITNESS FOR A PARTICULAR PURPOSE AND NONINFRINGEMENT. IN NO EVENT SHALL THE AUTHORS OR COPYRIGHT HOLDERS BE LIABLE FOR ANY CLAIM, DAMAGES OR OTHER LIABILITY, WHETHER IN AN ACTION OF CONTRACT, TORT OR OTHERWISE, ARISING FROM, OUT OF OR IN CONNECTION WITH THE SOFTWARE OR THE USE OR OTHER DEALINGS IN THE SOFTWARE."
   ]
  },
  {
   "cell_type": "markdown",
   "id": "f32312b2",
   "metadata": {},
   "source": [
    "This exercise is meant to help you practise writing markdown in Jupyter notebooks and doing simple computations. We begin by loading the libraries you will require lateron for your calculations."
   ]
  },
  {
   "cell_type": "code",
   "execution_count": null,
   "id": "05276ddc",
   "metadata": {},
   "outputs": [],
   "source": [
    "# import required libraries\n",
    "import matplotlib.pyplot as plt\n",
    "import numpy as np"
   ]
  },
  {
   "cell_type": "markdown",
   "id": "fd228dbc",
   "metadata": {},
   "source": [
    "### Exercise 1\n",
    "\n",
    "Briefly explain the working principle and the importance of the following components of a synchrotron: \n",
    "- RF cavities\n",
    "- dipole bending magnets\n",
    "- insertion devices"
   ]
  },
  {
   "cell_type": "code",
   "execution_count": null,
   "id": "825ca395",
   "metadata": {},
   "outputs": [],
   "source": []
  },
  {
   "cell_type": "markdown",
   "id": "ad71fc4a",
   "metadata": {},
   "source": [
    "### Exercise 2\n",
    "\n",
    "You are given the following attenuation data of four different elements. Identify the elements and justify your choice.\n",
    "<div>\n",
    "<img src=\"attachment:att_coeff.png\" width=\"800\"/>\n",
    "</div>\n",
    "Hint: Use the periodic table provided [here](https://xrayabsorption.org/xraytable/)\n",
    "Note: The copyright for the figures lies with J. H. Hubbell and S. M. Seltzer, Radiation Physics Division, PML, NIST, © 1989, 1990, 1996 copyright by the U.S. Secretary of Commerce on behalf of the United States of America. All rights reserved. NIST reserves the right to charge for these data in the future."
   ]
  },
  {
   "cell_type": "code",
   "execution_count": null,
   "id": "951b4f35",
   "metadata": {},
   "outputs": [],
   "source": []
  },
  {
   "cell_type": "markdown",
   "id": "3bbff9b7",
   "metadata": {},
   "source": [
    "### Exercise 3\n",
    "\n",
    "The Bremsstrahlungsspectrum of an X-ray source can be approximated by Kramer's law, which relates the photon count $I$ to the wavelength $\\lambda$ emitted over the wavelength interval $d\\lambda$ by $$I(\\lambda)d\\lambda=K\\left(\\frac{\\lambda}{\\lambda_{min}}-1\\right)\\frac{1}{\\lambda^2}d\\lambda \\, .$$ $K$ is proportional to the atomic number of the metal target. Please calculate and draw/plot the spectrum for a rhodium target with an electron beam energy of $E=60$ keV. Indicate clearly how you determined $\\lambda_{min}$. You may choose an interval of $d\\lambda$=5 pm for your calculation, with a maximum of 500 pm. Please comment on what may be missing from the spectrum calculated by the Kramer's law and where."
   ]
  },
  {
   "cell_type": "code",
   "execution_count": null,
   "id": "922a5571",
   "metadata": {},
   "outputs": [],
   "source": []
  },
  {
   "cell_type": "markdown",
   "id": "cab240e0",
   "metadata": {},
   "source": [
    "### Exercise 4\n",
    "\n",
    "Calculate the linear attenuation coefficient $\\mu$ [cm$^{-1}$] for the interaction of monochromatic X-rays at an energy of 10 keV with iron. The coherent scattering cross-section is given as 111.4 barns/atom, the incoherent scattering cross-section as 7.921 barns/atom and the photoelectric absorption as 15710 barns/atom. 1 barn equals 10$^{-28}$ m$^2$. Present your calculation and all used parameter values clearly."
   ]
  },
  {
   "cell_type": "code",
   "execution_count": null,
   "id": "74a21f2f",
   "metadata": {},
   "outputs": [],
   "source": []
  }
 ],
 "metadata": {
  "kernelspec": {
   "display_name": "Python 3 (ipykernel)",
   "language": "python",
   "name": "python3"
  },
  "language_info": {
   "codemirror_mode": {
    "name": "ipython",
    "version": 3
   },
   "file_extension": ".py",
   "mimetype": "text/x-python",
   "name": "python",
   "nbconvert_exporter": "python",
   "pygments_lexer": "ipython3",
   "version": "3.9.13"
  }
 },
 "nbformat": 4,
 "nbformat_minor": 5
}
