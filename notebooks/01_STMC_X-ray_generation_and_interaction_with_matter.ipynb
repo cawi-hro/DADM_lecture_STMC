{
 "cells": [
  {
   "cell_type": "markdown",
   "id": "27c66b98",
   "metadata": {},
   "source": [
    "## X-ray generation and interaction with matter"
   ]
  },
  {
   "cell_type": "markdown",
   "id": "f32312b2",
   "metadata": {},
   "source": [
    "This exercise is meant to help you practise writing markdown in Jupyter notebooks and doing simple computations.<br>We begin by loading the libraries you will require lateron for your calculations."
   ]
  },
  {
   "cell_type": "code",
   "execution_count": 24,
   "id": "05276ddc",
   "metadata": {},
   "outputs": [],
   "source": [
    "# import required libraries\n",
    "import matplotlib.pyplot as plt\n",
    "import numpy as np"
   ]
  },
  {
   "cell_type": "markdown",
   "id": "44b8b2be",
   "metadata": {},
   "source": [
    "---"
   ]
  },
  {
   "cell_type": "markdown",
   "id": "fd228dbc",
   "metadata": {},
   "source": [
    "### Exercise 1\n",
    "\n",
    "Briefly explain the working principle and the importance of the following components of a synchrotron: \n",
    "- RF cavities\n",
    "- dipole bending magnets\n",
    "- insertion devices"
   ]
  },
  {
   "cell_type": "markdown",
   "id": "30a7ed60",
   "metadata": {},
   "source": [
    "#### Solution\n",
    "_- solve the exercise beneath using markdown and/or code blocks -_"
   ]
  },
  {
   "cell_type": "markdown",
   "id": "8cf1dd02",
   "metadata": {},
   "source": [
    "markdown block example"
   ]
  },
  {
   "cell_type": "code",
   "execution_count": null,
   "id": "77281356",
   "metadata": {},
   "outputs": [],
   "source": [
    "# code block example"
   ]
  },
  {
   "cell_type": "markdown",
   "id": "6be66599",
   "metadata": {},
   "source": [
    "__RF cavities__  \n",
    "\n",
    "\n",
    "__Dipole bending magnets__  \n",
    "\n",
    "\n",
    "__Insertion devices__  \n"
   ]
  },
  {
   "cell_type": "markdown",
   "id": "29b174c1",
   "metadata": {},
   "source": [
    "---"
   ]
  },
  {
   "cell_type": "markdown",
   "id": "ad71fc4a",
   "metadata": {},
   "source": [
    "### Exercise 2\n",
    "\n",
    "You are given the following attenuation data of four different elements. Identify the elements and justify your choice.\n",
    "\n",
    "<div>\n",
    "<img src=\"..\\data\\attachments\\01_1_attenuation_data_of_diff_elements.jpg\" width=\"1000\" title=\"Attenuation data of different elements.\" />\n",
    "</div>\n",
    "\n",
    "Hint: Use the periodic table provided [here](https://xrayabsorption.org/xraytable/).  \n",
    "Note: The copyright for the figures lies with _J. H. Hubbell and S. M. Seltzer, Radiation Physics Division, PML, NIST, © 1989, 1990, 1996 copyright by the U.S. Secretary of Commerce on behalf of the United States of America. All rights reserved. NIST reserves the right to charge for these data in the future_."
   ]
  },
  {
   "cell_type": "markdown",
   "id": "8c8a9c22",
   "metadata": {},
   "source": [
    "#### Solution\n",
    "_- solve the exercise beneath using markdown and/or code blocks -_"
   ]
  },
  {
   "cell_type": "markdown",
   "id": "fc0ef4fa",
   "metadata": {},
   "source": [
    "---"
   ]
  },
  {
   "cell_type": "markdown",
   "id": "3bbff9b7",
   "metadata": {},
   "source": [
    "### Exercise 3\n",
    "\n",
    "The Bremsstrahlungsspectrum of an X-ray source can be approximated by Kramer's law, which relates the photon count $I$ to the wavelength $\\lambda$ emitted over the wavelength interval $d\\lambda$ by $$I(\\lambda)d\\lambda=K\\left(\\frac{\\lambda}{\\lambda_{min}}-1\\right)\\frac{1}{\\lambda^2}d\\lambda \\, .$$ $K$ is proportional to the atomic number of the metal target. Please calculate and draw/plot the spectrum for a rhodium target with an electron beam energy of $E=60\\,keV$. Indicate clearly how you determined $\\lambda_{min}$. You may choose an interval of $d\\lambda=5\\,pm$ for your calculation, with a maximum of $500\\,pm$. Please comment on what may be missing from the spectrum calculated by the _Kramer's_ law and where."
   ]
  },
  {
   "cell_type": "markdown",
   "id": "0f0ab901",
   "metadata": {},
   "source": [
    "#### Solution\n",
    "_- solve the exercise beneath using markdown and code blocks -_"
   ]
  },
  {
   "cell_type": "markdown",
   "id": "829881ab",
   "metadata": {},
   "source": [
    "---"
   ]
  },
  {
   "cell_type": "markdown",
   "id": "cab240e0",
   "metadata": {},
   "source": [
    "### Exercise 4\n",
    "\n",
    "Calculate the linear attenuation coefficient $\\mu$ $[cm^{-1}]$ for the interaction of monochromatic X-rays at an energy of $10\\,keV$ with iron. The coherent scattering cross-section is given as $111.4\\,\\frac{barns}{atom}$, the incoherent scattering cross-section as $7.921\\,\\frac{barns}{atom}$ and the photoelectric absorption as $15710\\,\\frac{barns}{atom}$.  \n",
    "\n",
    "$1\\,barn$ equals $10^{-28}\\,m^2$.  \n",
    "Present your calculation and all used parameter values clearly."
   ]
  },
  {
   "cell_type": "markdown",
   "id": "834477bc",
   "metadata": {},
   "source": [
    "#### Solution\n",
    "_- solve the exercise beneath using markdown and code blocks -_\t"
   ]
  },
  {
   "cell_type": "markdown",
   "id": "34162e09",
   "metadata": {},
   "source": [
    "---"
   ]
  }
 ],
 "metadata": {
  "kernelspec": {
   "display_name": ".venv",
   "language": "python",
   "name": "python3"
  },
  "language_info": {
   "codemirror_mode": {
    "name": "ipython",
    "version": 3
   },
   "file_extension": ".py",
   "mimetype": "text/x-python",
   "name": "python",
   "nbconvert_exporter": "python",
   "pygments_lexer": "ipython3",
   "version": "3.12.7"
  }
 },
 "nbformat": 4,
 "nbformat_minor": 5
}
