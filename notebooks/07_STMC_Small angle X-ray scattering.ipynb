{
 "cells": [
  {
   "cell_type": "markdown",
   "id": "4875d33a-f314-4fc3-ac02-218abe1f9816",
   "metadata": {},
   "source": [
    "## Small angle X-ray scattering\n",
    "\n",
    "We begin by loading the libraries you will require later on for your calculations."
   ]
  },
  {
   "cell_type": "code",
   "execution_count": 2,
   "id": "de5f0969-f56f-47e8-82bb-9ad0799ff22c",
   "metadata": {},
   "outputs": [],
   "source": [
    "# import required libraries\n",
    "import matplotlib.pyplot as plt\n",
    "import plotly.express as px\n",
    "import numpy as np\n",
    "import pandas as pd\n",
    "from scipy.optimize import minimize"
   ]
  },
  {
   "cell_type": "markdown",
   "id": "efd57c37-e1b9-4d71-a787-771044f46b68",
   "metadata": {},
   "source": [
    "### Exercise 1\n",
    "\n",
    "You are given three SAXS datasets, which are saved in _Iq_1-3.dat_, which contain the measured intensity $I(q)$ depending on the scattering length $q$ A$^{-1}$ of three different structures. The scattering curves where taken from [https://somo.chem.utk.edu/shape2sas/](https://somo.chem.utk.edu/shape2sas/). Plot the data, delineate the Guinier region within the plot and compute the radii of gyration of the structures. State clearly which data points you use to do so. \n",
    "\n",
    "Additionally, determine the shape of the particles. Based on this information, can you determine their size more precisely? Please justify all assumptions you are making during your calculations and conclusion."
   ]
  }
 ],
 "metadata": {
  "kernelspec": {
   "display_name": "Python 3 (ipykernel)",
   "language": "python",
   "name": "python3"
  },
  "language_info": {
   "codemirror_mode": {
    "name": "ipython",
    "version": 3
   },
   "file_extension": ".py",
   "mimetype": "text/x-python",
   "name": "python",
   "nbconvert_exporter": "python",
   "pygments_lexer": "ipython3",
   "version": "3.9.13"
  }
 },
 "nbformat": 4,
 "nbformat_minor": 5
}
