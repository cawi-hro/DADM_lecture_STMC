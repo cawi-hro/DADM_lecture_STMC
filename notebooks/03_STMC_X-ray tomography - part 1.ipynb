{
 "cells": [
  {
   "cell_type": "markdown",
   "id": "27c66b98",
   "metadata": {},
   "source": [
    "## X-ray tomography\n",
    "\n",
    "This notebook is shared under the MIT-license. Copyright (C) 2023, B. Zeller-Plumhoff\n",
    "\n",
    "Permission is hereby granted, free of charge, to any person obtaining a copy of this software and associated documentation files (the \"Software\"), to deal in the Software without restriction, including without limitation the rights to use, copy, modify, merge, publish, distribute, sublicense, and/or sell copies of the Software, and to permit persons to whom the Software is furnished to do so, subject to the following conditions:\n",
    "\n",
    "The above copyright notice and this permission notice shall be included in all copies or substantial portions of the Software.\n",
    "\n",
    "THE SOFTWARE IS PROVIDED \"AS IS\", WITHOUT WARRANTY OF ANY KIND, EXPRESS OR IMPLIED, INCLUDING BUT NOT LIMITED TO THE WARRANTIES OF MERCHANTABILITY, FITNESS FOR A PARTICULAR PURPOSE AND NONINFRINGEMENT. IN NO EVENT SHALL THE AUTHORS OR COPYRIGHT HOLDERS BE LIABLE FOR ANY CLAIM, DAMAGES OR OTHER LIABILITY, WHETHER IN AN ACTION OF CONTRACT, TORT OR OTHERWISE, ARISING FROM, OUT OF OR IN CONNECTION WITH THE SOFTWARE OR THE USE OR OTHER DEALINGS IN THE SOFTWARE."
   ]
  },
  {
   "cell_type": "markdown",
   "id": "f32312b2",
   "metadata": {},
   "source": [
    "We begin by loading the libraries you will require later on for your calculations. Note that we are using [scikit-image](https://scikit-image.org/) in particular."
   ]
  },
  {
   "cell_type": "code",
   "execution_count": null,
   "id": "05276ddc",
   "metadata": {},
   "outputs": [],
   "source": [
    "# import required libraries\n",
    "import matplotlib.pyplot as plt\n",
    "import numpy as np\n",
    "import pandas as pd\n",
    "from skimage.io import imread\n",
    "from skimage.data import shepp_logan_phantom\n",
    "from skimage.transform import radon, iradon\n",
    "from skimage.transform import iradon_sart"
   ]
  },
  {
   "cell_type": "markdown",
   "id": "fd228dbc",
   "metadata": {},
   "source": [
    "### Exercise 1\n",
    "\n",
    "In order to perform a tomographic reconstruction, we will first obtain projections using the forward radon transform. Scikit-image contains this transform, which we have imported above. To start, load the tif-files containing object 1 and object 2, as well as the shepp logan phantom from scikit-image. Display the three objects."
   ]
  },
  {
   "cell_type": "code",
   "execution_count": null,
   "id": "dee85c9a",
   "metadata": {},
   "outputs": [],
   "source": [
    "# use imread to read in the two object tifs and read in the phantom from skimage as well\n",
    "\n",
    "\n",
    "# create one figure with 3 axes to plot the objects\n",
    "\n",
    "# plot the objects, assign titles and set a greyscale color map that is sensible for tomographic images\n"
   ]
  },
  {
   "cell_type": "markdown",
   "id": "db4b9f47",
   "metadata": {},
   "source": [
    "In the next step, use the forward [radon](https://scikit-image.org/docs/stable/api/skimage.transform.html#skimage.transform.radon) transform to obtain the sinograms of the three objects. We wish to rotate between 0° and 180°. Plot the three sinograms as a function of the rotation angle - make use of the imshow [extent](https://matplotlib.org/stable/users/explain/artists/imshow_extent.html) to this end. In this first instance, make sure that you are fulfilling the Nyquist sampling theorem."
   ]
  },
  {
   "cell_type": "code",
   "execution_count": null,
   "id": "825ca395",
   "metadata": {},
   "outputs": [],
   "source": [
    "# Define all rotation angles theta using numpy linspace making sure that you are fullfilling the Nyquist sampling theorem \n",
    "\n",
    "# Use the forward Radon transform to obtain the sinograms of your three objects\n",
    "\n",
    "# create one figure with 3 axes to plot the sinograms\n",
    "\n",
    "\n",
    "# Plot the sinograms. In order to display the sinograms as a function of the angle rather than the number  \n",
    "# of angles we will use the extent function\n",
    "\n",
    "# set appropriate axes labels\n"
   ]
  },
  {
   "cell_type": "markdown",
   "id": "598e7e4b",
   "metadata": {},
   "source": [
    "Based on our sinograms, we may now perform the [inverse radon](https://scikit-image.org/docs/stable/api/skimage.transform.html#skimage.transform.iradon) transform using the scikit-image function iradon, i.e. a tomographic reconstruction. You need to select a filter for the inverse transform, which you may set to 'ramp'. In addition to plotting your reconstructions, plot the difference between the reconstruction and the original. Do you notice something in the error?"
   ]
  },
  {
   "cell_type": "code",
   "execution_count": null,
   "id": "922a5571",
   "metadata": {
    "scrolled": true
   },
   "outputs": [],
   "source": [
    "# perform the filtered backprojection by using the inverse radon transform of your three sinograms\n",
    "\n",
    "\n",
    "# create one figure with 6 axes to plot both the reconstructed objects and the error between the reconstruction\n",
    "# and original object. \n"
   ]
  },
  {
   "cell_type": "markdown",
   "id": "640ba487",
   "metadata": {},
   "source": [
    "### Exercise 2\n",
    "\n",
    "Based on the code that you have written above - write a function that will perform both the forward and inverse radon transform based on a certain input image and a prescribed number of (evenly distributed) projection angles that is defined relatively to the number of \"detector\" pixels. The function should output a mean error between the input and output image. Assess how the number of projections affects the error for your three images and plot the results in a graph - you may need to normalize the images to do so."
   ]
  },
  {
   "cell_type": "code",
   "execution_count": null,
   "id": "531d4ec9",
   "metadata": {},
   "outputs": [],
   "source": [
    "def forward_backward_projection(image,d_theta):\n",
    "    \"\"\" This function performs a forward and backward radon transform of an image given the number of projections \n",
    "    that should be taken and calculates the error between these\n",
    "\n",
    "    Args:\n",
    "        image (numpy.ndarray): containing the original \"image\", i.e. the object or ideal reconstruction\n",
    "        d_theta (int): number of projections\n",
    "\n",
    "    Returns: \n",
    "        float: error\n",
    "    \"\"\"\n",
    "    \n",
    "    # define projection angles based on the number of projections\n",
    "    \n",
    "\n",
    "    # Use the forward Radon transform to obtain the sinogram and compuate the inverse Radon transform\n",
    "    \n",
    "    \n",
    "    # compute the error\n",
    "    \n",
    "    return error_f_b# Define all rotation angles theta using numpy linspace. "
   ]
  },
  {
   "cell_type": "code",
   "execution_count": null,
   "id": "0b4e4985",
   "metadata": {},
   "outputs": [],
   "source": [
    "# use the function you defined to compute the error for the reconstruction as a function of the number of projections\n"
   ]
  },
  {
   "cell_type": "code",
   "execution_count": null,
   "id": "fdb9b2d5",
   "metadata": {},
   "outputs": [],
   "source": [
    "# plot the error as a function of the number of projections for the three objects\n",
    "# include axes labels and a legend in your graph\n"
   ]
  },
  {
   "cell_type": "markdown",
   "id": "acd21fd9",
   "metadata": {},
   "source": [
    "### Exercise 3\n",
    "\n",
    "Since we have so far performed the forward radon transform ourselves, the centre of reconstruction was given by the centre of the image and therefore required no adjustment. \n",
    "Discuss what you could do to change the centre of reconstruction if required?\n",
    "\n",
    "The iradon function does not include the option to change the centre of reconstruction, however, iradon_sart does. This function is an algebraic reconstruction algorithm, similar to the small example covered in the lecture. Trial how the tomographic reconstruction of your three object will look if you vary the centre of reconstruction. How will this change if you change the degree of rotations?"
   ]
  },
  {
   "cell_type": "code",
   "execution_count": null,
   "id": "c44d62c0",
   "metadata": {},
   "outputs": [],
   "source": [
    "# if necessary compute a new sinogram of one of your objects\n"
   ]
  },
  {
   "cell_type": "code",
   "execution_count": null,
   "id": "ce202872",
   "metadata": {},
   "outputs": [],
   "source": [
    "# create a shift array the size of the sinogram pixel width and assign an integer shift through multiplication\n",
    "\n",
    "# perform the inverse Radon transform using iradon_sart with your pixel shift\n",
    "\n",
    "# display the reconstructed image\n"
   ]
  },
  {
   "cell_type": "code",
   "execution_count": null,
   "id": "a4d047fa",
   "metadata": {},
   "outputs": [],
   "source": [
    "# compute another sinogram varying the range of angles over which you are projecting\n"
   ]
  },
  {
   "cell_type": "code",
   "execution_count": null,
   "id": "54e7b09f",
   "metadata": {},
   "outputs": [],
   "source": [
    "# perform the inverse radon transform with a pixel shift and display the resulting image including the artefact"
   ]
  },
  {
   "cell_type": "markdown",
   "id": "b24ca703",
   "metadata": {},
   "source": [
    "### Exercise 4\n",
    "\n",
    "You are given a sample made of polydimethylsiloxane (PDMS) for tomographic measurements using microCT. Compute the X-ray dose the sample is subjected to at an energy of 20keV assuming a radiation flux density of $1.73\\cdot 10^{15}$ photons/s/m$^2$. The X-ray energy can be understood as keV/photon. The PDMS sample is cylindrical and measures 2 mm in diameter and 2 mm in height. The attenuation coefficient of PDMS at this energy is given as 419.83 m$^{-1}$. Your microCT detector is 2000 pixels wide and you can use an exposure time of 200ms. The beam area at the sample is 5 mm in both directions. Give explanations for any assumptions you may make during the calculation. \n",
    "The critical dose for PDMS at which cross-links have formed to the extent to change the mechanical properties is 25 kGy, see: [Briganti, E.et al. J Mater Sci: Mater Med 21, 1311–1319 (2010).](https://doi.org/10.1007/s10856-009-3943-6)\n",
    "What does that imply if you want to perform mechanical testing of a PDMS sample during _in situ_ tomography?"
   ]
  },
  {
   "cell_type": "code",
   "execution_count": null,
   "id": "c3b7feca",
   "metadata": {},
   "outputs": [],
   "source": []
  }
 ],
 "metadata": {
  "kernelspec": {
   "display_name": "Python 3 (ipykernel)",
   "language": "python",
   "name": "python3"
  },
  "language_info": {
   "codemirror_mode": {
    "name": "ipython",
    "version": 3
   },
   "file_extension": ".py",
   "mimetype": "text/x-python",
   "name": "python",
   "nbconvert_exporter": "python",
   "pygments_lexer": "ipython3",
   "version": "3.9.13"
  }
 },
 "nbformat": 4,
 "nbformat_minor": 5
}
