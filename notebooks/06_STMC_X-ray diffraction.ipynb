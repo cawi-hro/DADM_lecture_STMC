{
 "cells": [
  {
   "cell_type": "markdown",
   "id": "4875d33a-f314-4fc3-ac02-218abe1f9816",
   "metadata": {},
   "source": [
    "## X-ray diffraction\n",
    "\n",
    "We begin by loading the libraries you will require later on for your calculations."
   ]
  },
  {
   "cell_type": "code",
   "execution_count": null,
   "id": "de5f0969-f56f-47e8-82bb-9ad0799ff22c",
   "metadata": {},
   "outputs": [],
   "source": [
    "# import required libraries\n",
    "import matplotlib.pyplot as plt\n",
    "import numpy as np\n",
    "from scipy.optimize import minimize"
   ]
  },
  {
   "cell_type": "markdown",
   "id": "789b1dfb-e5bb-4bcc-9db7-cbae40e21b72",
   "metadata": {},
   "source": [
    "Further you need to install the library pyFAI that we will use in the remainder of this notebook."
   ]
  },
  {
   "cell_type": "code",
   "execution_count": null,
   "id": "ebd938f3-fb4f-4245-9130-c60e29de4315",
   "metadata": {},
   "outputs": [],
   "source": [
    "# pip install pyFAI"
   ]
  },
  {
   "cell_type": "markdown",
   "id": "efd57c37-e1b9-4d71-a787-771044f46b68",
   "metadata": {},
   "source": [
    "### Exercise 1\n",
    "\n",
    "In the first instance, go to the [pyFAI cookbook](https://pyfai.readthedocs.io/en/v2023.1/usage/cookbook/calibration_with_jupyter.html) and copy the different cells into this notebook to try and recreate the calibration of the diffraction detector as described in the cookbook.\n",
    "\n",
    "Please note that you may need to select a different matplotlib interface (nbagg, widget or inline), depending on which environment you are using. Further, when you get to the stage where you should select the rings on the detector, make sure that you start at number 0 for the innermost diffraction ring. Discuss and describe the different steps you are performing in your own words to make sure you understand the process."
   ]
  },
  {
   "cell_type": "code",
   "execution_count": null,
   "id": "ae673c90-1e8a-4840-9bbc-44fcdefc8dd9",
   "metadata": {},
   "outputs": [],
   "source": []
  },
  {
   "cell_type": "markdown",
   "id": "4bf329c5-9596-4db0-89fd-08384894fc31",
   "metadata": {},
   "source": [
    "### Exercise 2\n",
    "\n",
    "In this exercise, you will first perform another detector calibration and then continue to integrate data from a recent experiment.\n",
    "The diffraction experiment was performed at an X-ray energy of 87.1 keV. The detector calibration data is given in the file _Lab6-00001.tif'_. In this case, the detector was a PerkinElmer detector and the calibrant was LaB6. Start by loading the data similar to above.\n",
    "The data used in this exercise is courtesy of Dr. Florian Wieland at Helmholtz-Zentrum Hereon."
   ]
  },
  {
   "cell_type": "code",
   "execution_count": null,
   "id": "390e0f06-c665-4a98-94ba-69b8bdac7e81",
   "metadata": {},
   "outputs": [],
   "source": []
  },
  {
   "cell_type": "markdown",
   "id": "e69722db-83a3-4ae7-bb30-fb9ed736c14b",
   "metadata": {},
   "source": [
    "Display the detector image"
   ]
  },
  {
   "cell_type": "code",
   "execution_count": null,
   "id": "62deb4db-0e02-4db5-ad4e-f8d9caf66e71",
   "metadata": {},
   "outputs": [],
   "source": []
  },
  {
   "cell_type": "markdown",
   "id": "778846b0-25b2-4b6e-91a2-8aebb819b9eb",
   "metadata": {},
   "source": [
    "Now perform the calibration as you did before."
   ]
  },
  {
   "cell_type": "code",
   "execution_count": null,
   "id": "d19a4df6-8f63-4792-93e6-a5c6b0d858f5",
   "metadata": {},
   "outputs": [],
   "source": []
  },
  {
   "cell_type": "markdown",
   "id": "cff5582c-9c87-4c65-9b7a-73048d573c13",
   "metadata": {},
   "source": [
    "Extract the calibrated geometry. Note that in this instance we will not perform any changes to the initial geometry, as no flight tube was used and we assume that a detector tilt is possible."
   ]
  },
  {
   "cell_type": "code",
   "execution_count": null,
   "id": "02e29321-064b-4cfe-881e-b240c49d7bf3",
   "metadata": {},
   "outputs": [],
   "source": []
  },
  {
   "cell_type": "markdown",
   "id": "72bda5ce-2c02-4afc-ac44-574c47686225",
   "metadata": {},
   "source": [
    "Create the azimuthal integrator as above."
   ]
  },
  {
   "cell_type": "code",
   "execution_count": null,
   "id": "bd3c13f6-03e0-4123-b401-33ce850b32dc",
   "metadata": {},
   "outputs": [],
   "source": []
  },
  {
   "cell_type": "markdown",
   "id": "f538f6bb-8b7c-4662-8f45-36470fd7be5f",
   "metadata": {},
   "source": [
    "And finish by displaying the integrated detector image. This is useful to check that you performed the calibration well. If you notice that the red lines are not coinciding with the major peaks you should go back to the calibration step."
   ]
  },
  {
   "cell_type": "code",
   "execution_count": null,
   "id": "a5dd3226-9f87-4225-9230-672ff3d7c819",
   "metadata": {},
   "outputs": [],
   "source": []
  },
  {
   "cell_type": "markdown",
   "id": "073415fc-2190-4ae4-966e-c66b27d984e3",
   "metadata": {},
   "source": [
    "Following the detector calibration, we wish to load the diffraction data from the actual sample during the experiment. Start by loading both _Mg10Gd_sample4_5_10minus5-00001.tif_ and _Mg10Gd_sample4_5_10minus5-00060.tif_ and display at least one diffraction spectrum. "
   ]
  },
  {
   "cell_type": "code",
   "execution_count": null,
   "id": "c282cef6-6ccb-442e-b489-75357e4279a8",
   "metadata": {},
   "outputs": [],
   "source": []
  },
  {
   "cell_type": "markdown",
   "id": "0117dd26-b8b3-4928-87b8-f91cbd9d1b6a",
   "metadata": {},
   "source": [
    "You should be seeing three larger peaks at q-values between 20 and 30 nm$^{-1}$. We now wish to fit the first of these three peaks and see how its position and width differ between the two images. Start by saving the azimuthal integrations in two arrays."
   ]
  },
  {
   "cell_type": "code",
   "execution_count": null,
   "id": "3214d0f6-70ed-4023-9706-5db45218c613",
   "metadata": {},
   "outputs": [],
   "source": []
  },
  {
   "cell_type": "markdown",
   "id": "030c6254-ec43-459f-b6e3-bbdaaf0a07ad",
   "metadata": {},
   "source": [
    "To perform the fitting, it is useful to narrow down you data to that surrounding the peak (with no further peaks included). Therefore, generate arrays with contain only the peak we wish to fit and display both peaks. How do they differ visually?"
   ]
  },
  {
   "cell_type": "code",
   "execution_count": null,
   "id": "778a5eb5-e0d8-44c9-9ba8-964638247ce9",
   "metadata": {},
   "outputs": [],
   "source": []
  },
  {
   "cell_type": "markdown",
   "id": "961d317e-975a-4223-887f-14aa864c0611",
   "metadata": {},
   "source": [
    "The peak for the _60_ sample appears a little broader. In terms of the intensity, no differences are apparent."
   ]
  },
  {
   "cell_type": "markdown",
   "id": "2e8af12b-4342-44fd-904d-05837b9638e0",
   "metadata": {},
   "source": [
    "In the next step define two functions: \n",
    "1. Define a Gauss function which will return the y-values of a Gaussian function given the x-values and the different parameters. Your Gauss function should take the form $$y=C+A*e^{-\\frac{(x-x_0)^2}{2\\sigma^2}}$$\n",
    "2. Define a cost function that computes the L2 norm of a given (y)-data and the Gaussian from (1) with given x and parameter values"
   ]
  },
  {
   "cell_type": "code",
   "execution_count": null,
   "id": "c1c12675-e574-4331-9295-8007ea14bfe4",
   "metadata": {},
   "outputs": [],
   "source": []
  },
  {
   "cell_type": "markdown",
   "id": "e41259c9-0af4-44db-a155-0522b0acf1ab",
   "metadata": {},
   "source": [
    "We will now fit two Gaussians using the functions we have defined by using the _scipy_ function _minimize_. Based on the visual appearance above, you should set initial values for the parameters of the Gaussian function. The _output.x_ of the function contains the optimal parameter set. Using these, plot the two original peaks and the fitted Gaussians for a visual comparison. If your fit was successful, these should differ only slightly. "
   ]
  },
  {
   "cell_type": "code",
   "execution_count": null,
   "id": "de114ae0-a911-448d-aecb-879bbe0fbb76",
   "metadata": {},
   "outputs": [],
   "source": []
  },
  {
   "cell_type": "markdown",
   "id": "7864f3c9-5a2d-46bb-8bb2-1c5d3ea3e8ca",
   "metadata": {},
   "source": [
    "Finally, determine the lattice spacing of the peaks that you have fitted. Which Mg-peak are we assessing? How much do the lattice spacings and the FWHM differ between the two measurements? How are you interpreting the results?"
   ]
  },
  {
   "cell_type": "code",
   "execution_count": null,
   "id": "412f903a-b0b4-4c7a-bced-0105355bd256",
   "metadata": {},
   "outputs": [],
   "source": []
  },
  {
   "cell_type": "markdown",
   "id": "4ea74ed1-690d-4439-98e9-65a62b8119d3",
   "metadata": {},
   "source": [
    "The peak position is differing only slightly, yet the FWHM has changed significantly, which coincides with what we observed visually. The broadening of the peak is due to a strain that is introduced on the crystal lattice, as the experiment at hand is a tensile test."
   ]
  }
 ],
 "metadata": {
  "kernelspec": {
   "display_name": "Python 3 (ipykernel)",
   "language": "python",
   "name": "python3"
  },
  "language_info": {
   "codemirror_mode": {
    "name": "ipython",
    "version": 3
   },
   "file_extension": ".py",
   "mimetype": "text/x-python",
   "name": "python",
   "nbconvert_exporter": "python",
   "pygments_lexer": "ipython3",
   "version": "3.9.13"
  }
 },
 "nbformat": 4,
 "nbformat_minor": 5
}
