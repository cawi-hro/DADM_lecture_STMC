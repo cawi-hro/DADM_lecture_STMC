{
 "cells": [
  {
   "cell_type": "markdown",
   "id": "27c66b98",
   "metadata": {},
   "source": [
    "## X-ray tomography - Part 2"
   ]
  },
  {
   "cell_type": "markdown",
   "id": "f32312b2",
   "metadata": {},
   "source": [
    "We begin by loading the libraries you will require later on for your calculations."
   ]
  },
  {
   "cell_type": "code",
   "execution_count": null,
   "id": "05276ddc",
   "metadata": {},
   "outputs": [],
   "source": [
    "\n",
    "# import required libraries\n",
    "import matplotlib.pyplot as plt\n",
    "import numpy as np\n",
    "import pandas as pd\n",
    "from pathlib import Path\n",
    "import sys\n",
    "import os\n",
    "\n",
    "# Add the parent directory including test_simulation.py to the system path\n",
    "sys.path.append(os.path.abspath(''))\n",
    "\n",
    "import test_simulation"
   ]
  },
  {
   "cell_type": "markdown",
   "id": "fd228dbc",
   "metadata": {},
   "source": [
    "---\n",
    "### Exercise 1\n",
    "\n",
    "The following cell imports a function to simulate the forward propagation of the X-rays following interaction with an object using the Fresnel propagator.  \n",
    "\n",
    "__*** Please note, that this function test_simulation.py does not fall under the MIT license and may not be shared outside this course. ***__\n",
    "\n",
    "Vary the inputs z01 and z02 (in nm) which relate the the SOD and SDD in the lecture for cone-beam imaging and see how the propagated image changes. Plot the object for comparison. Comment your observations.\n",
    "\n",
    "---"
   ]
  },
  {
   "cell_type": "markdown",
   "id": "6b30e75d",
   "metadata": {},
   "source": [
    "#### Solution\n",
    "_- solve the exercise beneath using markdown and/or code blocks -_"
   ]
  },
  {
   "cell_type": "markdown",
   "id": "cee02d8c",
   "metadata": {},
   "source": [
    "If we use the provided code and enter different SOD and SDD, we note that with increasing z02 and constant z01 we have stronger fringes extending farther from our original object. This is due to the increase in interference due to the extended propagation distance. The same occurs if we decrease z01 and keep z02 constant because the sample-to-detector distance effectively increases."
   ]
  },
  {
   "cell_type": "code",
   "execution_count": null,
   "id": "dee85c9a",
   "metadata": {},
   "outputs": [],
   "source": [
    "z01 =    # value in cm --> nm\n",
    "z02 =    # value in m --> nm\n",
    "\n",
    "holo, obj= test_simulation.forward_propagation_holo()\n",
    "plt.imshow()\n",
    "plt.show()"
   ]
  },
  {
   "cell_type": "markdown",
   "id": "640ba487",
   "metadata": {},
   "source": [
    "---\n",
    "### Exercise 2\n",
    "\n",
    "Aluminum, Beryllium and lithium are typical materials for compound refractive lenses (CRLs). Use the database available [here](https://henke.lbl.gov/optical_constants/getdb2.html) to determine the minimum number $N$ of lenses required to attain a focal length $f$ = 1 m of the CRLS at photon energies between 5 and 30 keV, assuming that the apex radius is $r=5$ µm. You may assume that the focal length $f=\\frac{r}{2 \\delta N}$.\n",
    "\n",
    "---"
   ]
  },
  {
   "cell_type": "markdown",
   "id": "1f8eeda6",
   "metadata": {},
   "source": [
    "#### Solution\n",
    "_- solve the exercise beneath using markdown and/or code blocks -_"
   ]
  },
  {
   "cell_type": "markdown",
   "id": "7c19a4a8",
   "metadata": {},
   "source": [
    "The number of required lenses can be derived using the following formula $$N=$$ where $r$ is the radius at apex and $f$ the desired maximum focal length. $\\delta$ the real refractive index increment relates to the phase shift of the different materials and can be taken from the database. Clearly, for different photon energies, different numbers of lenses are required. To correctly solve the exercise, we need to keep in mind that only integer numbers of lenses are physically sensible. This exercise can be solved in Python, see the following code:"
   ]
  },
  {
   "cell_type": "code",
   "execution_count": null,
   "id": "531d4ec9",
   "metadata": {},
   "outputs": [],
   "source": [
    "data_al=pd.read_csv()\n",
    "data_be=pd.read_csv()\n",
    "data_li=pd.read_csv()\n",
    "\n",
    "f=1 # focal length in m\n",
    "r=5*10**(-6) # radius at apex in m\n",
    "\n",
    "N_al=np.ceil()\n",
    "N_be=np.ceil()\n",
    "N_li=np.ceil()\n",
    "\n",
    "E = data_al.iloc[:,0]\n",
    "my_dpi=150\n",
    "plt.figure()\n",
    "plt.scatter()\n",
    "plt.scatter()\n",
    "plt.scatter()\n",
    "plt.xlabel('Photon energy / eV')\n",
    "plt.ylabel('Number of lenses in CRL')\n",
    "plt.legend()\n",
    "plt.tight_layout\n",
    "plt.show()"
   ]
  }
 ],
 "metadata": {
  "kernelspec": {
   "display_name": ".venv",
   "language": "python",
   "name": "python3"
  },
  "language_info": {
   "codemirror_mode": {
    "name": "ipython",
    "version": 3
   },
   "file_extension": ".py",
   "mimetype": "text/x-python",
   "name": "python",
   "nbconvert_exporter": "python",
   "pygments_lexer": "ipython3",
   "version": "3.12.7"
  }
 },
 "nbformat": 4,
 "nbformat_minor": 5
}
