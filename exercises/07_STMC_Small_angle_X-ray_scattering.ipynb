{
 "cells": [
  {
   "cell_type": "markdown",
   "id": "4875d33a-f314-4fc3-ac02-218abe1f9816",
   "metadata": {},
   "source": [
    "## Small angle X-ray scattering\n",
    "\n",
    "We begin by loading the libraries you will require later on for your calculations."
   ]
  },
  {
   "cell_type": "code",
   "execution_count": 1,
   "id": "de5f0969-f56f-47e8-82bb-9ad0799ff22c",
   "metadata": {},
   "outputs": [],
   "source": [
    "# import required libraries\n",
    "import matplotlib.pyplot as plt\n",
    "import plotly.express as px\n",
    "import numpy as np\n",
    "import pandas as pd\n",
    "from scipy.stats import linregress"
   ]
  },
  {
   "cell_type": "markdown",
   "id": "59e92e23",
   "metadata": {},
   "source": [
    "---\n",
    "### Exercise 1"
   ]
  },
  {
   "cell_type": "markdown",
   "id": "efd57c37-e1b9-4d71-a787-771044f46b68",
   "metadata": {},
   "source": [
    "You are given three **SAXS datasets**, which are saved in `Iq_1.dat`, `Iq_2.dat` and `Iq_3.dat`, which contain the measured intensity $I(q)$ depending on the magnitude of the scattering vector $q$ in Å$^{-1}$. The scattering curves where taken from [here](https://somo.chem.utk.edu/shape2sas/).\n",
    "\n",
    "Our objective is to analyze these datasets and determine the **small-angle X-ray scattering (SAXS)** parameters of the samples to give an estimate of the shape and size of the underlying particle structure.\n",
    "\n",
    "**First**, load and plot the data from the respective files. \n",
    "\n",
    "To obtain an **estimation of the shape** of the particles, you will have to fit the SAXS data in the **high-q region**, i.e. **from 0.03 onwards** performing a linear regression using ``linregress`` function from the ``scipy.stats`` module. This will give you the **slope** of the linear fit, which you can use to estimate the **overall shape**. \n",
    "\n",
    "**Hints:**\n",
    "- For the **steady SAXS data** you can run the linear regression fit directely from the imported data sets in the relevant ranges given.\n",
    "- Note that for the **SAXS data with the jumps** at high q, we want to **fit only the overall shape** of these, and therefore **select the maxima manually** using an interactive ``plotly`` line-graph."
   ]
  },
  {
   "cell_type": "markdown",
   "id": "a7299b6f",
   "metadata": {},
   "source": [
    "---\n",
    "#### Solution\n",
    "_- solve the exercise beneath using markdown and/or code blocks -_"
   ]
  },
  {
   "cell_type": "code",
   "execution_count": null,
   "id": "2a88e2a7-987d-4101-8a12-3af3b335266b",
   "metadata": {},
   "outputs": [],
   "source": [
    "# Load the data from CSV files into DataFrames\n",
    "# Each file contains SAXS data with columns separated by spaces\n",
    "# We select specific columns and rename them for clarity\n",
    "\n",
    "# Structure 1\n",
    "\n",
    "\n",
    "# Structure 2\n",
    "\n",
    "\n",
    "# Structure 3\n"
   ]
  },
  {
   "cell_type": "code",
   "execution_count": null,
   "id": "841d402f-7cba-4486-920e-fd36e3f750e8",
   "metadata": {},
   "outputs": [],
   "source": [
    "# Plot the SAXS datasets\n",
    "\n",
    "\n",
    "# Label the x-axis and y-axis\n",
    "\n",
    "\n",
    "# Set the y-axis and x-axis to log scale\n",
    "\n",
    "\n",
    "# Add a legend to the plot\n",
    "\n",
    "\n",
    "# Display the plot\n",
    "\n"
   ]
  },
  {
   "cell_type": "code",
   "execution_count": 49,
   "id": "b14c8827",
   "metadata": {},
   "outputs": [],
   "source": [
    "# Define the high q threshold for steady SAXS data in high q region\n",
    "\n",
    "\n",
    "# Perform linear regression for structure 1\n",
    "\n",
    "\n",
    "# Perform linear regression for structure 2\n"
   ]
  },
  {
   "cell_type": "code",
   "execution_count": null,
   "id": "74695304",
   "metadata": {},
   "outputs": [],
   "source": [
    "# Create a line plot for the SAXS data with jumps in high q region\n",
    "\n",
    "\n",
    "# Update the layout to set axis titles\n",
    "\n",
    "\n",
    "# Display the plot\n",
    "\n"
   ]
  },
  {
   "cell_type": "code",
   "execution_count": 51,
   "id": "3092c4af",
   "metadata": {},
   "outputs": [],
   "source": [
    "# Define q values for the SAXS data with jumps in high q region\n",
    "\n",
    "# Initialize y_data array with the same size as q_data\n",
    "\n",
    "# Fill y_data with corresponding I values from SAXS data for each q value in q_data\n",
    "\n",
    "# Find the index in SAXS data where the q value matches\n",
    "\n",
    "# Assign the corresponding I value to y_data\n",
    "\n",
    "# Perform linear regression for the SAXS data with jumps in high q region\n"
   ]
  },
  {
   "cell_type": "code",
   "execution_count": null,
   "id": "2525b690",
   "metadata": {},
   "outputs": [],
   "source": [
    "# print the results from all three structures\n"
   ]
  },
  {
   "cell_type": "markdown",
   "id": "1d90c9b0",
   "metadata": {},
   "source": [
    "We may **plot the fits** to our three structures to gain a visual assessment."
   ]
  },
  {
   "cell_type": "code",
   "execution_count": null,
   "id": "c0088f8d",
   "metadata": {},
   "outputs": [],
   "source": [
    "# Plot the measured SAXS signal for structure 1\n",
    "\n",
    "# Plot the fit for structure 1 data for q values greater than highq_thresh\n",
    "\n",
    "# Plot the measured SAXS signal for structure 2\n",
    "\n",
    "# Plot the fit for structure 2 data for q values greater than highq_thresh\n",
    "\n",
    "# Plot the measured SAXS signal for structure 3\n",
    "\n",
    "# Plot the fit for structure 3 data using q_data\n",
    "\n",
    "# Set the settings of the plot\n",
    "\n"
   ]
  },
  {
   "cell_type": "markdown",
   "id": "c0e5d5ca",
   "metadata": {},
   "source": [
    "Based on **the slope** calculated in the previous cells, **estimate the shapes** that correspond to each SAXS data\n",
    "\n",
    "**Hint:**\n",
    "- Use you lecture notes."
   ]
  },
  {
   "cell_type": "markdown",
   "id": "59edc443",
   "metadata": {},
   "source": [
    "**Shape estimations:**\n",
    "- `Iq_1.dat`: XXX\n",
    "- `Iq_2.dat`: XXX\n",
    "- `Iq_3.dat`: XXX"
   ]
  },
  {
   "cell_type": "markdown",
   "id": "7d51daad",
   "metadata": {},
   "source": [
    "---\n",
    "### Exercise 2"
   ]
  },
  {
   "cell_type": "markdown",
   "id": "1de0955b",
   "metadata": {},
   "source": [
    "**Now**, delineate the **[Guinier region](https://gisaxs.com/index.php/Guinier_plot)** within the plot from `Exercise 1` and compute the **radii of gyration** $R_g$ of the samples. State clearly which data points you use to do so. Based on this information, can you **determine their size** more precisely? Please justify all assumptions you are making during your calculations and conclusion.\n",
    "\n",
    "**Hints:**\n",
    "- To fit the radius of gyration you must select only that area, where the SAXS curves appear constant.\n",
    "- To visualize **Guinier region** more clearly begin by plotting $q^2$ vs. $log(I)$."
   ]
  },
  {
   "cell_type": "markdown",
   "id": "220ca377",
   "metadata": {},
   "source": [
    "---"
   ]
  },
  {
   "cell_type": "markdown",
   "id": "9cf1df71-f64f-42cd-97fc-9a6ee7ab3e71",
   "metadata": {},
   "source": [
    "**Assumptions of fitting the radius of gyration:**  \n",
    "\n",
    "$q<0.005$ Å$^{-1}$ for structures 1 and 2, but  \n",
    "$q<0.001$ Å$^{-1}$ for structure 3."
   ]
  },
  {
   "cell_type": "code",
   "execution_count": null,
   "id": "670c2202-b102-4a0d-9b6e-67e192fc6e11",
   "metadata": {},
   "outputs": [],
   "source": [
    "# Define the Guinier threshold for structure 1 and 2\n",
    "\n",
    "\n",
    "# Define a different Guinier threshold for structure 3\n",
    "\n",
    "\n",
    "# Set the title of the plot\n",
    "\n",
    "# Label the x-axis and y-axis\n",
    "\n",
    "# Add a legend to the plot\n",
    "\n",
    "# Display the plot\n"
   ]
  },
  {
   "cell_type": "markdown",
   "id": "6efc925b-e4e1-4dba-baaa-a25de619dcce",
   "metadata": {},
   "source": [
    "We will now **fit the linear function** within the **Guinier region** for the three samples with the functions we have defined by using the `scipy` function `linregress`."
   ]
  },
  {
   "cell_type": "code",
   "execution_count": null,
   "id": "de114ae0-a911-448d-aecb-879bbe0fbb76",
   "metadata": {
    "tags": []
   },
   "outputs": [],
   "source": [
    "# Function to calculate the radius of gyration of a structure\n",
    "def calculate_radius_of_gyration(data, guinier_thresh, structure_name):\n",
    "    # Perform linear regression for the given data and threshold\n",
    "\n",
    "    # Calculate the radius of gyration\n",
    "\n",
    "    # Print the radius of gyration with the structure name\n",
    "\n",
    "    return R_G\n",
    "\n",
    "\n",
    "# Define the Guinier threshold for  and disc data\n",
    "\n",
    "\n",
    "# Calculate radius of gyration for each structure\n",
    "\n",
    "# Define a different Guinier threshold for sphere data\n",
    "\n",
    "\n",
    "# Calculate radius of gyration for sphere data\n"
   ]
  },
  {
   "cell_type": "markdown",
   "id": "0324c766-cb4a-4c84-98be-124090fa4074",
   "metadata": {},
   "source": [
    "The results indicate that structure 1 is a rod, structure 2 a disc or cylinder and structure 3 a sphere. Based on this information and the radius of gyration, we can determine the radius of the sphere, because  \n",
    "\n",
    "$$R=$$  \n",
    "\n",
    "Similary, we may assume for the rod that it is a cylinder with $R_1=R_2$ and we can therefore determine its height as  \n",
    "\n",
    "$$h=$$ "
   ]
  },
  {
   "cell_type": "code",
   "execution_count": null,
   "id": "5debf549-8750-4ff5-bcc1-28620e82579c",
   "metadata": {},
   "outputs": [],
   "source": [
    "# calculate the radius of the sphere and the height/length of the rod\n"
   ]
  },
  {
   "cell_type": "markdown",
   "id": "7023d750-a4a1-462e-abd9-c844f3a8e3da",
   "metadata": {},
   "source": [
    "In fact, the structures for which the SAXS spectra were generated were a cylinder with equal radii of 10 Å and a height of 10 nm, which equates to a rod, as well as a flat disk of height 10 nm and radius of 10 Å, and lastly a sphere of 20 nm radius."
   ]
  },
  {
   "cell_type": "markdown",
   "id": "d2be4ba9",
   "metadata": {},
   "source": [
    "---"
   ]
  }
 ],
 "metadata": {
  "kernelspec": {
   "display_name": ".venv",
   "language": "python",
   "name": "python3"
  },
  "language_info": {
   "codemirror_mode": {
    "name": "ipython",
    "version": 3
   },
   "file_extension": ".py",
   "mimetype": "text/x-python",
   "name": "python",
   "nbconvert_exporter": "python",
   "pygments_lexer": "ipython3",
   "version": "3.12.7"
  }
 },
 "nbformat": 4,
 "nbformat_minor": 5
}
