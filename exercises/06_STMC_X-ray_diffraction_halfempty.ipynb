{
 "cells": [
  {
   "cell_type": "markdown",
   "id": "4875d33a-f314-4fc3-ac02-218abe1f9816",
   "metadata": {},
   "source": [
    "## X-ray diffraction"
   ]
  },
  {
   "cell_type": "markdown",
   "id": "c6fbf4b2",
   "metadata": {},
   "source": [
    "We begin by loading the libraries you will require later on for your calculations."
   ]
  },
  {
   "cell_type": "code",
   "execution_count": 14,
   "id": "de5f0969-f56f-47e8-82bb-9ad0799ff22c",
   "metadata": {},
   "outputs": [],
   "source": [
    "# import required libraries\n",
    "import matplotlib.pyplot as plt\n",
    "import numpy as np\n",
    "from scipy.optimize import minimize"
   ]
  },
  {
   "cell_type": "markdown",
   "id": "789b1dfb-e5bb-4bcc-9db7-cbae40e21b72",
   "metadata": {},
   "source": [
    "Further you need to install the library [pyFAI](https://pyfai.readthedocs.io/en/stable/) that we will use in the remainder of this notebook."
   ]
  },
  {
   "cell_type": "code",
   "execution_count": 15,
   "id": "ebd938f3-fb4f-4245-9130-c60e29de4315",
   "metadata": {},
   "outputs": [],
   "source": [
    "# pip install ipywidgets --upgrade\n",
    "# pip install jupyterlab\n",
    "# pip install notebook"
   ]
  },
  {
   "cell_type": "markdown",
   "id": "efd57c37-e1b9-4d71-a787-771044f46b68",
   "metadata": {},
   "source": [
    "---\n",
    "### Exercise 1"
   ]
  },
  {
   "cell_type": "markdown",
   "id": "851b95c3",
   "metadata": {},
   "source": [
    "Go to the [pyFAI cookbook](https://pyfai.readthedocs.io/en/stable/usage/cookbook/calibration_with_jupyter.html) and **copy the different cells** into this notebook to try and recreate the calibration of the diffraction detector as described in the cookbook. **Discuss and describe** the different steps you are performing in your own words to make sure you understand the process.\n",
    "\n",
    "**Hints:**\n",
    "- you may need to select a different matplotlib interface (**nbagg**, **widget** or **inline**), depending on which environment you are using.\n",
    "- when you get to the stage where you should select the rings on the detector, make sure that you **start at number 0** for the **innermost diffraction ring**."
   ]
  },
  {
   "cell_type": "markdown",
   "id": "2fe51685",
   "metadata": {},
   "source": [
    "---\n",
    "#### Become familiar with pyFAI cookbook\n",
    "_- solve the exercise beneath using markdown and/or code blocks -_"
   ]
  },
  {
   "cell_type": "code",
   "execution_count": null,
   "id": "ecab9dde",
   "metadata": {},
   "outputs": [],
   "source": [
    "from IPython.display import Video\n",
    "\n",
    "Video(\"http://www.silx.org/pub/pyFAI/video/Calibration_Jupyter.mp4\", width=800)\n"
   ]
  },
  {
   "cell_type": "code",
   "execution_count": null,
   "id": "a12bae64",
   "metadata": {},
   "outputs": [],
   "source": [
    "for lib in [\"jupyterlab\", \"notebook\", \"matplotlib\", \"ipympl\", \"ipywidgets\"]:\n",
    "    mod = __import__(lib)\n",
    "    print(f\"{lib:12s}:   {mod.__version__}\")"
   ]
  },
  {
   "cell_type": "code",
   "execution_count": null,
   "id": "44cee2d9",
   "metadata": {},
   "outputs": [],
   "source": [
    "# The notebook interface (nbagg) is needed in jupyter-notebook while the widget is recommended for jupyer lab\n",
    "# %matplotlib nbagg\n",
    "# %matplotlib widget\n",
    "# %matplotlib inline\n",
    "# For the integration in the documentation, one uses `inline` to capture figures.\n",
    "%matplotlib inline\n",
    "\n",
    "import pyFAI\n",
    "import pyFAI.test.utilstest\n",
    "import fabio\n",
    "from matplotlib.pyplot import subplots\n",
    "from pyFAI.gui import jupyter\n",
    "from pyFAI.gui.jupyter.calib import Calibration\n",
    "\n",
    "print(f\"PyFAI version {pyFAI.version}\")"
   ]
  },
  {
   "cell_type": "code",
   "execution_count": 19,
   "id": "866c48c3",
   "metadata": {},
   "outputs": [],
   "source": [
    "# Some parameters like the wavelength, the calibrant and the diffraction image:\n",
    "wavelength = \n",
    "pilatus = pyFAI.detector_factory(\"\")\n",
    "AgBh = pyFAI.calibrant.CALIBRANT_FACTORY(\"\")\n",
    "AgBh.wavelength = \n",
    "\n",
    "# load some test data (requires an internet connection)\n",
    "img = fabio.open(pyFAI.test.utilstest.UtilsTest.getimage(\"\")).data"
   ]
  },
  {
   "cell_type": "code",
   "execution_count": null,
   "id": "cf037544",
   "metadata": {},
   "outputs": [],
   "source": [
    "# Simply display the scattering image:\n",
    "jupyter.display()"
   ]
  },
  {
   "cell_type": "code",
   "execution_count": null,
   "id": "ae6cc141",
   "metadata": {},
   "outputs": [],
   "source": [
    "%matplotlib widget\n",
    "calib = Calibration(, calibrant=, wavelength=, detector=)\n",
    "# This displays the calibration widget:\n",
    "\n",
    "# 1. Set the ring number (0-based value), below the plot\n",
    "# 2. Pick the ring by right-clicking with the mouse on the image.\n",
    "# 3. Restart at 1. for at least a second ring\n",
    "# 4. Click refine to launch the calibration."
   ]
  },
  {
   "cell_type": "code",
   "execution_count": null,
   "id": "c1b1ee45",
   "metadata": {},
   "outputs": [],
   "source": [
    "# This is the calibrated geometry:\n",
    "gr = calib.\n",
    "print(gr)\n",
    "print(f\"Fixed parameters: {calib.}\")\n",
    "print(f\"Cost function: {gr.}\")"
   ]
  },
  {
   "cell_type": "code",
   "execution_count": 23,
   "id": "cc30468a",
   "metadata": {},
   "outputs": [],
   "source": [
    "# re-extract all control points using the \"massif\" algorithm\n",
    "calib.extract_cpt()"
   ]
  },
  {
   "cell_type": "code",
   "execution_count": 24,
   "id": "b66fe9d0",
   "metadata": {},
   "outputs": [],
   "source": [
    "# remove the last ring since it is outside the flight-tube\n",
    "calib.remove_grp(lbl=\"f\")"
   ]
  },
  {
   "cell_type": "code",
   "execution_count": null,
   "id": "d2d56bd8",
   "metadata": {},
   "outputs": [],
   "source": [
    "# Switch back to `inline` mode to capture the last plot\n",
    "%matplotlib inline\n",
    "calib.peakPicker.widget.fig.show()"
   ]
  },
  {
   "cell_type": "code",
   "execution_count": null,
   "id": "38d5b80b",
   "metadata": {},
   "outputs": [],
   "source": [
    "# Those are some control points: the last column indicates the ring number\n",
    "calib.geoRef.data[::100]"
   ]
  },
  {
   "cell_type": "code",
   "execution_count": null,
   "id": "ae7c52c7",
   "metadata": {},
   "outputs": [],
   "source": [
    "# This is the geometry with all rings defined:\n",
    "gr = calib.\n",
    "print(gr)\n",
    "print(f\"Fixed parameters: {calib.}\")\n",
    "print(f\"Cost function: {gr.}\")"
   ]
  },
  {
   "cell_type": "code",
   "execution_count": null,
   "id": "0f93e090",
   "metadata": {},
   "outputs": [],
   "source": [
    "# Geometry refinement with some constrains: SAXS mode\n",
    "# Here we enforce all rotation to be null and fit again the model:\n",
    "\n",
    "gr. = gr. = gr. = 0\n",
    "gr.refine3(fix=[\"rot1\", \"rot2\", \"rot3\", \"wavelength\"])\n",
    "print(gr)\n",
    "print(f\"Cost function = {gr.chi2()}\")"
   ]
  },
  {
   "cell_type": "code",
   "execution_count": null,
   "id": "4064980a",
   "metadata": {},
   "outputs": [],
   "source": [
    "gr.save(\"jupyter.poni\")\n",
    "gr.get_config()"
   ]
  },
  {
   "cell_type": "code",
   "execution_count": null,
   "id": "809d0718",
   "metadata": {},
   "outputs": [],
   "source": [
    "# Create a \"normal\" azimuthal integrator (without fitting capabilities from the geometry-refinement object)\n",
    "ai = pyFAI.load(gr)\n",
    "ai"
   ]
  },
  {
   "cell_type": "code",
   "execution_count": null,
   "id": "24c1ab14",
   "metadata": {},
   "outputs": [],
   "source": [
    "# Display the integrated data to validate the calibration.\n",
    "fig, ax = subplots(1, 2, figsize=(12, 6))\n",
    "jupyter.plot1d(ai.integrate1d(img, 1000), calibrant=AgBh, ax=ax[0])\n",
    "jupyter.plot2d(ai.integrate2d(img, 1000), calibrant=AgBh, ax=ax[1])\n",
    "_ = ax[1].set_title(\"2D integration\")"
   ]
  },
  {
   "cell_type": "markdown",
   "id": "4bf329c5-9596-4db0-89fd-08384894fc31",
   "metadata": {},
   "source": [
    "---\n",
    "### Exercise 2\n",
    "\n",
    "In this exercise, you will perform another detector calibration and then continue to integrate data from a recent experiment.  \n",
    "\n",
    "In a **first step**, use the **code snippets** copied in the [pyFAI cookbook](https://pyfai.readthedocs.io/en/stable/usage/cookbook/calibration_with_jupyter.html) from **Exercise 1** to adapt the calibration process of the cookbook **only for relevant steps**. You can write a function or simply adapt the given code for the relevant parts only.\n",
    "\n",
    "The mentioned diffraction experiment was performed at an **X-ray energy** of $87.1\\,\\text{keV}$. The detector calibration data is given in the file `Lab6-00001.tif` located in the **data folder**. \n",
    "To sucessfully perform the calibration, you have to use [Lanthanum hexaboride](https://en.wikipedia.org/wiki/Lanthanum_hexaboride) ``LaB6`` as **calibrant**, ``PerkinElmer`` ([Link]([detector](https://resources.perkinelmer.com/corporate/pdfs/downloads/bro_digitalxraydetectors.pdf))) as **detector**.\n",
    "\n",
    "**Given Constants:**\n",
    "- Speed of light, $ c = 3 \\times 10^8 \\, \\text{m/s} $\n",
    "- Planck's constant, $ h = 4.136 \\times 10^{-15} \\, \\text{eV} \\cdot \\text{s} $\n",
    "- Beam Energie, $ E_0 = 87.1 \\, \\text{keV} $\n",
    "\n",
    "**Hint:**\n",
    "- The imported ``Calibration`` Class from [pyFAI](https://pyfai.readthedocs.io/en/stable/) exspects wavelength given in m.\n",
    "\n",
    "**Acknowledgments:**  \n",
    "The data used in this exercise is courtesy of **Dr. Florian Wieland** at Helmholtz-Zentrum Hereon."
   ]
  },
  {
   "cell_type": "markdown",
   "id": "882c66a6",
   "metadata": {},
   "source": [
    "---\n",
    "#### Solution\n",
    "_- solve the exercise beneath using markdown and/or code blocks -_"
   ]
  },
  {
   "cell_type": "code",
   "execution_count": 32,
   "id": "c3fa4149",
   "metadata": {},
   "outputs": [],
   "source": [
    "# Import relevant modules\n",
    "import fabio\n",
    "import pyFAI\n",
    "from pyFAI.calibrant import CALIBRANT_FACTORY\n",
    "from matplotlib import pyplot as plt\n",
    "from pyFAI.gui.jupyter.calib import Calibration\n",
    "from pyFAI.gui import jupyter"
   ]
  },
  {
   "cell_type": "code",
   "execution_count": 33,
   "id": "8f3b21a1",
   "metadata": {},
   "outputs": [],
   "source": [
    "# function to plot execute calibration after interactive\n",
    "def calibration_results(calibrated_image_object, nbr_of_points=1000):\n",
    "    \"\"\"\n",
    "    Calibrates the geometry for SAXS mode by extracting control points, refining the geometry,\n",
    "    and validating the calibration through azimuthal integration of the provided image data.\n",
    "\n",
    "    Parameters:\n",
    "    calibrated_image_object: An object that contains the calibration data and methods for extraction and refinement.\n",
    "    nbr_of_points: The number of points for azimuthal integration (default is 1000).\n",
    "\n",
    "    Returns:\n",
    "    integrator: An azimuthal integrator object created from the calibrated geometry.\n",
    "    \"\"\"\n",
    "    calib = calibrated_image_object\n",
    "    calib.  # re-extract all control points using the \"massif\" algorithm\n",
    "    calib.  # Remove rings outside the flight-tube\n",
    "\n",
    "    # Geometry after control points extraction\n",
    "    geometry = calib.\n",
    "\n",
    "    # Apply constraints for SAXS mode and refine\n",
    "    geometry. = geometry. = geometry. = 0\n",
    "    geometry.refine3(fix=[\"rot1\", \"rot2\", \"rot3\", \"wavelength\"])\n",
    "    print(geometry)\n",
    "    print(f\"Fixed parameters: {calib.}\")\n",
    "    print(f\"Cost function = {geometry.}\")\n",
    "\n",
    "    # Create an azimuthal integrator from the calibrated geometry\n",
    "    integrator = pyFAI.load()\n",
    "\n",
    "    # Validate calibration by displaying integrated data\n",
    "    fig, ax = plt.subplots(1, 2)\n",
    "    jupyter.plot1d(\n",
    "        integrator.integrate1d(, ), , ax=ax[]\n",
    "    )\n",
    "    jupyter.plot2d(\n",
    "        integrator.\n",
    "    )\n",
    "    ax[0].set_title(\"\")\n",
    "    ax[1].set_title(\"\")\n",
    "    plt.tight_layout()\n",
    "    plt.show()\n",
    "\n",
    "    return integrator"
   ]
  },
  {
   "cell_type": "code",
   "execution_count": null,
   "id": "c43cade5",
   "metadata": {},
   "outputs": [],
   "source": [
    "# set interface [widget, inline, nbagg]\n",
    "%matplotlib widget\n",
    "\n",
    "# define experimental parameters\n",
    "E = \n",
    "c = \n",
    "h = \n",
    "wavelength = \n",
    "image_path = \"\"\n",
    "calibrant_name = \"\"  # [\"AgBh\", \"LaB6\"] depends on calibrant used in experiment\n",
    "detector_name = \"\"  # [\"Pilatus1M\", \"PerkinElmer\", \"Eiger9M\"] depends on detector used in experiment\n",
    "\n",
    "# Set up the detector and calibrant\n",
    "detector = pyFAI.detector_factory()\n",
    "calibrant = CALIBRANT_FACTORY()\n",
    "calibrant.wavelength = \n",
    "\n",
    "# Load the image data\n",
    "img = \n",
    "\n",
    "# Initialize calibration & display interactive calibration widget\n",
    "print(\n",
    "    \"\",\n",
    "    \"Please follow the instructions to perform the calibration.\",\n",
    "    \"1. Set the ring number (0-based value), below the plot\",\n",
    "    \"2. Pick the ring by right-clicking with the mouse on the image.\",\n",
    "    \"3. Restart at 1. for at least a second ring\",\n",
    "    \"4. Click refine to launch the calibration.\",\n",
    "    sep=\"\\n\",\n",
    ")\n",
    "calibrated_image_object = Calibration(\n",
    "    , , , \n",
    ")\n",
    "\n",
    "# do not paste in further code beneath,\n",
    "# because you first have to run the calibration process,\n",
    "# before further calculate the results"
   ]
  },
  {
   "cell_type": "code",
   "execution_count": null,
   "id": "51807982",
   "metadata": {},
   "outputs": [],
   "source": [
    "my_integrator = calibration_results()"
   ]
  },
  {
   "cell_type": "markdown",
   "id": "02d3615a",
   "metadata": {},
   "source": [
    "---\n",
    "### Exercise 2 - continuing\n",
    "\n",
    "In **the second step**, we wish to load the diffraction data from a sample during a tensile test experiment. Start by loading both ``Mg10Gd_sample4_5_10minus5-00001.tif`` and ``Mg10Gd_sample4_5_10minus5-00060.tif`` and display at least one diffraction spectrum."
   ]
  },
  {
   "cell_type": "markdown",
   "id": "e69722db-83a3-4ae7-bb30-fb9ed736c14b",
   "metadata": {},
   "source": [
    "**Steps form above repeated:**\n",
    "\n",
    "1. Display the detector image\n",
    "2. Now perform the calibration as you did before.\n",
    "3. Extract the calibrated geometry. Note that in this instance we will not perform any changes to the initial geometry, as no flight tube was used and we assume that a detector tilt is possible.\n",
    "4. Create the azimuthal integrator as above.\n",
    "5. Finish by displaying the integrated detector image. This is useful to check that you performed the calibration well. If you notice that the red lines are not coinciding with the major peaks you should go back to the calibration step."
   ]
  },
  {
   "cell_type": "markdown",
   "id": "060fedd3",
   "metadata": {},
   "source": [
    "---\n",
    "#### Solution\n",
    "_- solve the exercise beneath using markdown and/or code blocks -_"
   ]
  },
  {
   "cell_type": "code",
   "execution_count": null,
   "id": "c282cef6-6ccb-442e-b489-75357e4279a8",
   "metadata": {},
   "outputs": [],
   "source": [
    "sample1 = fabio.open(\"/Mg10Gd_sample4_5_10minus5-00001.tif\").data\n",
    "sample60 = fabio.open(\"/Mg10Gd_sample4_5_10minus5-00060.tif\").data\n",
    "jupyter.plot1d(my_integrator.integrate1d(, ))"
   ]
  },
  {
   "cell_type": "markdown",
   "id": "0117dd26-b8b3-4928-87b8-f91cbd9d1b6a",
   "metadata": {},
   "source": [
    "You should be seeing three larger peaks at q-values between $20$ and $30\\,\\text{nm}^{-1}$. We now wish to fit the first of these three peaks and see how its position and width differ between the two images. Start by saving the azimuthal integrations in two arrays."
   ]
  },
  {
   "cell_type": "code",
   "execution_count": 44,
   "id": "3214d0f6-70ed-4023-9706-5db45218c613",
   "metadata": {},
   "outputs": [],
   "source": [
    "spectrum1 = my_integrator.integrate1d(, )\n",
    "spectrum60 = "
   ]
  },
  {
   "cell_type": "markdown",
   "id": "030c6254-ec43-459f-b6e3-bbdaaf0a07ad",
   "metadata": {},
   "source": [
    "To perform the fitting, it is useful to narrow down you data to that surrounding the peak (with no further peaks included). Therefore, generate arrays with contain only the peak we wish to fit and display both peaks. How do they differ visually?"
   ]
  },
  {
   "cell_type": "code",
   "execution_count": null,
   "id": "778a5eb5-e0d8-44c9-9ba8-964638247ce9",
   "metadata": {},
   "outputs": [],
   "source": [
    "xdata1 = spectrum1[]\n",
    "ydata1 = spectrum1[]\n",
    "\n",
    "xdata1_peak = xdata1[() & ()]\n",
    "ydata1_peak = \n",
    "\n",
    "xdata60 = \n",
    "ydata60 = \n",
    "\n",
    "xdata60_peak = \n",
    "ydata60_peak = \n",
    "\n",
    "fig, ax = plt.subplots(1, 2)\n",
    "ax[0].plot(xdata1_peak, ydata1_peak)\n",
    "ax[0].set_xlabel(\"Scattering vector q / nm$^{-1}$\")\n",
    "ax[0].set_title(\"Data 1\")\n",
    "ax[0].set_ylabel(\"Intensity\")\n",
    "ax[1].plot(xdata60_peak, ydata60_peak)\n",
    "ax[1].set_xlabel(\"Scattering vector q / nm$^{-1}$\")\n",
    "ax[1].set_ylabel(\"Intensity\")\n",
    "ax[1].set_title(\"Data 60\")\n",
    "fig.tight_layout()\n",
    "plt.show()"
   ]
  },
  {
   "cell_type": "markdown",
   "id": "961d317e-975a-4223-887f-14aa864c0611",
   "metadata": {},
   "source": [
    "The peak for the `...s5-00060.tif` sample appears a little broader. In terms of the intensity, no differences are apparent."
   ]
  },
  {
   "cell_type": "markdown",
   "id": "2e8af12b-4342-44fd-904d-05837b9638e0",
   "metadata": {},
   "source": [
    "In the **next step** define two functions: \n",
    "1. Define a **Gauss function** which will return the y-values of a Gaussian function given the x-values and the different parameters. Your Gauss function should take the form $$y=C+A\\times e^{-\\frac{(x-x_0)^2}{2\\sigma^2}}$$\n",
    "2. Define a **cost function** that computes the $L2$ **norm** of a given y-data and the Gaussian function from above with given x and parameter values"
   ]
  },
  {
   "cell_type": "code",
   "execution_count": 46,
   "id": "c1c12675-e574-4331-9295-8007ea14bfe4",
   "metadata": {},
   "outputs": [],
   "source": [
    "# define the gauss function\n",
    "def gauss(x, params):\n",
    "    y_g = \n",
    "    return y_g\n",
    "\n",
    "\n",
    "# define a function that computes and returns the L2 loss\n",
    "def cost_function(params, x, y):\n",
    "    L2 = \n",
    "    return L2"
   ]
  },
  {
   "cell_type": "markdown",
   "id": "e41259c9-0af4-44db-a155-0522b0acf1ab",
   "metadata": {},
   "source": [
    "We will **now fit two Gaussians** using the functions we have defined by using the **scipy function** [minimize](https://docs.scipy.org/doc/scipy/reference/generated/scipy.optimize.minimize.html#minimize). Based on the visual appearance above, you should set initial values for the parameters of the Gaussian function. The output of the function contains the optimal parameter set. Using these, plot the two original peaks and the fitted Gaussians for a visual comparison. If your fit was successful, these should differ only slightly. "
   ]
  },
  {
   "cell_type": "code",
   "execution_count": null,
   "id": "de114ae0-a911-448d-aecb-879bbe0fbb76",
   "metadata": {
    "tags": []
   },
   "outputs": [],
   "source": [
    "par0 = [1500, 10000, 22.5, 0.2]\n",
    "\n",
    "output1 = minimize(, par0, args=(xdata1_peak, ydata1_peak))\n",
    "fit_y1 = gauss(xdata1_peak, output1.x)\n",
    "\n",
    "output60 = \n",
    "fit_y60 = \n",
    "\n",
    "fig, ax = plt.subplots(1, 2)\n",
    "ax[0].plot(xdata1_peak, ydata1_peak, label=\"data\")\n",
    "ax[0].plot(xdata1_peak, fit_y1, linestyle=\"dashed\", label=\"fit\")\n",
    "ax[0].set_xlabel(\"Scattering vector q / nm$^{-1}$\")\n",
    "ax[0].set_ylabel(\"Intensity\")\n",
    "ax[0].set_title(\"Data 1\")\n",
    "ax[0].legend()\n",
    "ax[1].plot(xdata60_peak, ydata60_peak, label=\"data\")\n",
    "ax[1].plot(xdata60_peak, fit_y60, linestyle=\"dashed\", label=\"fit\")\n",
    "ax[1].set_xlabel(\"Scattering vector q / nm$^{-1}$\")\n",
    "ax[1].set_ylabel(\"Intensity\")\n",
    "ax[1].set_title(\"Data 60\")\n",
    "ax[1].legend()\n",
    "plt.show()"
   ]
  },
  {
   "cell_type": "markdown",
   "id": "7864f3c9-5a2d-46bb-8bb2-1c5d3ea3e8ca",
   "metadata": {},
   "source": [
    "**Finally**, determine the **lattice spacing of the peaks** that you have fitted. Which **Mg-peak** are we assessing? How much do the lattice spacings and the FWHM (full width at half maximum) differ between the two measurements? How are you interpreting the results?"
   ]
  },
  {
   "cell_type": "code",
   "execution_count": null,
   "id": "412f903a-b0b4-4c7a-bced-0105355bd256",
   "metadata": {},
   "outputs": [],
   "source": [
    "d1_peak = \n",
    "print(\n",
    "    \"The peak position fitted for diffractogram 1 is\", np.round(d1_peak, 4), \"Angström.\"\n",
    ")\n",
    "fwhm1 = \n",
    "print(\"The full width at half maximum for diffractogram 1 is\", np.round(fwhm1, 3))\n",
    "\n",
    "d60_peak = \n",
    "print(\n",
    "    \"The peak position fitted for diffractogram 60 is\",\n",
    "    np.round(d60_peak, 4),\n",
    "    \"Angström.\",\n",
    ")\n",
    "fwhm60 = \n",
    "print(\"The full width at half maximum for diffractogram 60 is\", np.round(fwhm60, 3))"
   ]
  },
  {
   "cell_type": "markdown",
   "id": "4ea74ed1-690d-4439-98e9-65a62b8119d3",
   "metadata": {},
   "source": [
    "The fitted peak is the **Mg (100) peak**. The peak can be checked [here](http://rruff.geo.arizona.edu/AMS/amcsd.php). The peak position is differing only slightly, yet the FWHM (full width at half maximum) has changed significantly, which coincides with what we observed visually. The broadening of the peak is due to a strain that is introduced on the crystal lattice, as the experiment at hand is a tensile test. `...s5-00001.tif` is at **0 N** tensile load and `...s5-00060.tif` at **5.26 kN**."
   ]
  }
 ],
 "metadata": {
  "kernelspec": {
   "display_name": ".venv",
   "language": "python",
   "name": "python3"
  },
  "language_info": {
   "codemirror_mode": {
    "name": "ipython",
    "version": 3
   },
   "file_extension": ".py",
   "mimetype": "text/x-python",
   "name": "python",
   "nbconvert_exporter": "python",
   "pygments_lexer": "ipython3",
   "version": "3.12.7"
  }
 },
 "nbformat": 4,
 "nbformat_minor": 5
}
