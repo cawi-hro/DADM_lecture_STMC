{
 "cells": [
  {
   "cell_type": "markdown",
   "id": "4875d33a-f314-4fc3-ac02-218abe1f9816",
   "metadata": {},
   "source": [
    "## X-ray diffraction"
   ]
  },
  {
   "cell_type": "markdown",
   "id": "c6fbf4b2",
   "metadata": {},
   "source": [
    "We begin by loading the libraries you will require later on for your calculations."
   ]
  },
  {
   "cell_type": "code",
   "execution_count": 14,
   "id": "de5f0969-f56f-47e8-82bb-9ad0799ff22c",
   "metadata": {},
   "outputs": [],
   "source": [
    "# import required libraries\n",
    "import matplotlib.pyplot as plt\n",
    "import numpy as np\n",
    "from scipy.optimize import minimize"
   ]
  },
  {
   "cell_type": "markdown",
   "id": "789b1dfb-e5bb-4bcc-9db7-cbae40e21b72",
   "metadata": {},
   "source": [
    "Further you need to install the library [pyFAI](https://pyfai.readthedocs.io/en/stable/) that we will use in the remainder of this notebook."
   ]
  },
  {
   "cell_type": "code",
   "execution_count": 15,
   "id": "ebd938f3-fb4f-4245-9130-c60e29de4315",
   "metadata": {},
   "outputs": [],
   "source": [
    "# pip install ipywidgets --upgrade\n",
    "# pip install jupyterlab\n",
    "# pip install notebook"
   ]
  },
  {
   "cell_type": "markdown",
   "id": "efd57c37-e1b9-4d71-a787-771044f46b68",
   "metadata": {},
   "source": [
    "---\n",
    "### Exercise 1"
   ]
  },
  {
   "cell_type": "markdown",
   "id": "851b95c3",
   "metadata": {},
   "source": [
    "Go to the [pyFAI cookbook](https://pyfai.readthedocs.io/en/stable/usage/cookbook/calibration_with_jupyter.html) and **copy the different cells** into this notebook to try and recreate the calibration of the diffraction detector as described in the cookbook. **Discuss and describe** the different steps you are performing in your own words to make sure you understand the process.\n",
    "\n",
    "**Hints:**\n",
    "- you may need to select a different matplotlib interface (**nbagg**, **widget** or **inline**), depending on which environment you are using.\n",
    "- when you get to the stage where you should select the rings on the detector, make sure that you **start at number 0** for the **innermost diffraction ring**."
   ]
  },
  {
   "cell_type": "markdown",
   "id": "2fe51685",
   "metadata": {},
   "source": [
    "---\n",
    "#### Become familiar with pyFAI cookbook\n",
    "_- solve the exercise beneath using markdown and/or code blocks -_"
   ]
  },
  {
   "cell_type": "code",
   "execution_count": null,
   "id": "6fc7bf81",
   "metadata": {},
   "outputs": [],
   "source": []
  },
  {
   "cell_type": "markdown",
   "id": "4bf329c5-9596-4db0-89fd-08384894fc31",
   "metadata": {},
   "source": [
    "---\n",
    "### Exercise 2\n",
    "\n",
    "In this exercise, you will perform another detector calibration and then continue to integrate data from a recent experiment.  \n",
    "\n",
    "In a **first step**, use the **code snippets** copied in the [pyFAI cookbook](https://pyfai.readthedocs.io/en/stable/usage/cookbook/calibration_with_jupyter.html) from **Exercise 1** to adapt the calibration process of the cookbook **only for relevant steps**. You can write a function or simply adapt the given code for the relevant parts only.\n",
    "\n",
    "The mentioned diffraction experiment was performed at an **X-ray energy** of $87.1\\,\\text{keV}$. The detector calibration data is given in the file `Lab6-00001.tif` located in the **data folder**. \n",
    "To sucessfully perform the calibration, you have to use [Lanthanum hexaboride](https://en.wikipedia.org/wiki/Lanthanum_hexaboride) ``LaB6`` as **calibrant**, ``PerkinElmer`` ([Link]([detector](https://resources.perkinelmer.com/corporate/pdfs/downloads/bro_digitalxraydetectors.pdf))) as **detector**.\n",
    "\n",
    "**Given Constants:**\n",
    "- Speed of light, $ c = 3 \\times 10^8 \\, \\text{m/s} $\n",
    "- Planck's constant, $ h = 4.136 \\times 10^{-15} \\, \\text{eV} \\cdot \\text{s} $\n",
    "- Beam Energie, $ E_0 = 87.1 \\, \\text{keV} $\n",
    "\n",
    "**Hint:**\n",
    "- The imported ``Calibration`` Class from [pyFAI](https://pyfai.readthedocs.io/en/stable/) exspects wavelength given in m.\n",
    "\n",
    "**Acknowledgments:**  \n",
    "The data used in this exercise is courtesy of **Dr. Florian Wieland** at Helmholtz-Zentrum Hereon."
   ]
  },
  {
   "cell_type": "markdown",
   "id": "882c66a6",
   "metadata": {},
   "source": [
    "---\n",
    "#### Solution\n",
    "_- solve the exercise beneath using markdown and/or code blocks -_"
   ]
  },
  {
   "cell_type": "code",
   "execution_count": null,
   "id": "abe34659",
   "metadata": {},
   "outputs": [],
   "source": []
  },
  {
   "cell_type": "markdown",
   "id": "426cf644",
   "metadata": {},
   "source": [
    "**Steps form above repeated:**\n",
    "\n",
    "1. Display the detector image\n",
    "2. Now perform the calibration as you did before.\n",
    "3. Extract the calibrated geometry. Note that in this instance we will not perform any changes to the initial geometry, as no flight tube was used and we assume that a detector tilt is possible.\n",
    "4. Create the azimuthal integrator as above.\n",
    "5. Finish by displaying the integrated detector image. This is useful to check that you performed the calibration well. If you notice that the red lines are not coinciding with the major peaks you should go back to the calibration step."
   ]
  },
  {
   "cell_type": "markdown",
   "id": "02d3615a",
   "metadata": {},
   "source": [
    "---\n",
    "### Exercise 2 - continuing\n",
    "\n",
    "In **the second step**, we wish to load the diffraction data from a sample during a tensile test experiment. Start by loading both ``Mg10Gd_sample4_5_10minus5-00001.tif`` and ``Mg10Gd_sample4_5_10minus5-00060.tif`` and display at least one diffraction spectrum."
   ]
  },
  {
   "cell_type": "markdown",
   "id": "e69722db-83a3-4ae7-bb30-fb9ed736c14b",
   "metadata": {},
   "source": [
    "**Steps form above repeated:**\n",
    "\n",
    "1. Display the detector image\n",
    "2. Now perform the calibration as you did before.\n",
    "3. Extract the calibrated geometry. Note that in this instance we will not perform any changes to the initial geometry, as no flight tube was used and we assume that a detector tilt is possible.\n",
    "4. Create the azimuthal integrator as above.\n",
    "5. Finish by displaying the integrated detector image. This is useful to check that you performed the calibration well. If you notice that the red lines are not coinciding with the major peaks you should go back to the calibration step."
   ]
  },
  {
   "cell_type": "markdown",
   "id": "060fedd3",
   "metadata": {},
   "source": [
    "---\n",
    "#### Solution\n",
    "_- solve the exercise beneath using markdown and/or code blocks -_"
   ]
  },
  {
   "cell_type": "code",
   "execution_count": null,
   "id": "c282cef6-6ccb-442e-b489-75357e4279a8",
   "metadata": {},
   "outputs": [],
   "source": []
  },
  {
   "cell_type": "markdown",
   "id": "0117dd26-b8b3-4928-87b8-f91cbd9d1b6a",
   "metadata": {},
   "source": [
    "You should be seeing three larger peaks at q-values between $20$ and $30\\,\\text{nm}^{-1}$. We now wish to fit the first of these three peaks and see how its position and width differ between the two images. Start by saving the azimuthal integrations in two arrays."
   ]
  },
  {
   "cell_type": "code",
   "execution_count": 44,
   "id": "3214d0f6-70ed-4023-9706-5db45218c613",
   "metadata": {},
   "outputs": [],
   "source": []
  },
  {
   "cell_type": "markdown",
   "id": "030c6254-ec43-459f-b6e3-bbdaaf0a07ad",
   "metadata": {},
   "source": [
    "To perform the fitting, it is useful to narrow down you data to that surrounding the peak (with no further peaks included). Therefore, generate arrays with contain only the peak we wish to fit and display both peaks. How do they differ visually?"
   ]
  },
  {
   "cell_type": "code",
   "execution_count": null,
   "id": "778a5eb5-e0d8-44c9-9ba8-964638247ce9",
   "metadata": {},
   "outputs": [],
   "source": []
  },
  {
   "cell_type": "markdown",
   "id": "961d317e-975a-4223-887f-14aa864c0611",
   "metadata": {},
   "source": [
    "The peak for the `...s5-00060.tif` sample appears a little broader. In terms of the intensity, no differences are apparent."
   ]
  },
  {
   "cell_type": "markdown",
   "id": "2e8af12b-4342-44fd-904d-05837b9638e0",
   "metadata": {},
   "source": [
    "In the **next step** define two functions: \n",
    "1. Define a **Gauss function** which will return the y-values of a Gaussian function given the x-values and the different parameters. Your Gauss function should take the form $$y=C+A\\times e^{-\\frac{(x-x_0)^2}{2\\sigma^2}}$$\n",
    "2. Define a **cost function** that computes the $L2$ **norm** of a given y-data and the Gaussian function from above with given x and parameter values"
   ]
  },
  {
   "cell_type": "code",
   "execution_count": 46,
   "id": "c1c12675-e574-4331-9295-8007ea14bfe4",
   "metadata": {},
   "outputs": [],
   "source": [
    "# define the gauss function\n"
   ]
  },
  {
   "cell_type": "code",
   "execution_count": null,
   "id": "5bc51226",
   "metadata": {},
   "outputs": [],
   "source": [
    "# define a function that computes and returns the L2 loss\n"
   ]
  },
  {
   "cell_type": "markdown",
   "id": "e41259c9-0af4-44db-a155-0522b0acf1ab",
   "metadata": {},
   "source": [
    "We will **now fit two Gaussians** using the functions we have defined by using the **scipy function** [minimize](https://docs.scipy.org/doc/scipy/reference/generated/scipy.optimize.minimize.html#minimize). Based on the visual appearance above, you should set initial values for the parameters of the Gaussian function. The output of the function contains the optimal parameter set. Using these, plot the two original peaks and the fitted Gaussians for a visual comparison. If your fit was successful, these should differ only slightly. "
   ]
  },
  {
   "cell_type": "code",
   "execution_count": null,
   "id": "de114ae0-a911-448d-aecb-879bbe0fbb76",
   "metadata": {
    "tags": []
   },
   "outputs": [],
   "source": []
  },
  {
   "cell_type": "markdown",
   "id": "7864f3c9-5a2d-46bb-8bb2-1c5d3ea3e8ca",
   "metadata": {},
   "source": [
    "**Finally**, determine the **lattice spacing of the peaks** that you have fitted. Which **Mg-peak** are we assessing? How much do the lattice spacings and the FWHM (full width at half maximum) differ between the two measurements? How are you interpreting the results?"
   ]
  },
  {
   "cell_type": "code",
   "execution_count": null,
   "id": "412f903a-b0b4-4c7a-bced-0105355bd256",
   "metadata": {},
   "outputs": [],
   "source": []
  },
  {
   "cell_type": "markdown",
   "id": "4ea74ed1-690d-4439-98e9-65a62b8119d3",
   "metadata": {},
   "source": [
    "The fitted peak is the **Mg (100) peak**. The peak can be checked [here](http://rruff.geo.arizona.edu/AMS/amcsd.php). The peak position is differing only slightly, yet the FWHM (full width at half maximum) has changed significantly, which coincides with what we observed visually. The broadening of the peak is due to a strain that is introduced on the crystal lattice, as the experiment at hand is a tensile test. `...s5-00001.tif` is at **0 N** tensile load and `...s5-00060.tif` at **5.26 kN**."
   ]
  }
 ],
 "metadata": {
  "kernelspec": {
   "display_name": ".venv",
   "language": "python",
   "name": "python3"
  },
  "language_info": {
   "codemirror_mode": {
    "name": "ipython",
    "version": 3
   },
   "file_extension": ".py",
   "mimetype": "text/x-python",
   "name": "python",
   "nbconvert_exporter": "python",
   "pygments_lexer": "ipython3",
   "version": "3.12.7"
  }
 },
 "nbformat": 4,
 "nbformat_minor": 5
}
