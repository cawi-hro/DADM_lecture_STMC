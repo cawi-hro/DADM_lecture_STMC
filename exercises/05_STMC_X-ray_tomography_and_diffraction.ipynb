{
 "cells": [
  {
   "cell_type": "markdown",
   "id": "27c66b98",
   "metadata": {},
   "source": [
    "## X-ray tomography and diffraction"
   ]
  },
  {
   "cell_type": "markdown",
   "id": "f32312b2",
   "metadata": {},
   "source": [
    "We begin by loading the libraries you will require later on for your calculations."
   ]
  },
  {
   "cell_type": "code",
   "execution_count": 2,
   "id": "05276ddc",
   "metadata": {},
   "outputs": [],
   "source": [
    "# import required libraries\n",
    "import matplotlib.pyplot as plt\n",
    "import numpy as np"
   ]
  },
  {
   "cell_type": "markdown",
   "id": "ad9692d1",
   "metadata": {},
   "source": [
    "---\n",
    "### Exercise 1\n",
    "\n",
    "In this exercise, you will use a function to simulate the forward propagation of X-rays after interacting with an object, employing the Fresnel propagator.\n",
    "\n",
    "**Important Notice:**\n",
    "- The function in `test_simulation.py` does not fall under the MIT license and may not be shared outside of this course.\n",
    "\n",
    "**Tasks:**\n",
    "1. Previously, you varied the inputs $ z_{01} $ and $ z_{02} $ (in nm) that relate to the Source-to-Object Distance (SOD) and Source-to-Detector Distance (SDD) in cone-beam imaging, and observed how the propagated image changes.\n",
    "2. This week, modify the simulation to use materials such as **gold** and **Teflon**. \n",
    "3. Vary the **thickness** of these materials and observe how the propagated image is affected.\n",
    "4. You may also experiment by using **two shapes of different materials** as the simulated object. Modify the function accordingly.\n",
    "\n",
    "**Additional Resources:**\n",
    "To obtain values for **beta** and **delta** based on beam energy and the materials chosen, refer to the following links:\n",
    "- [Optical Constants - Perturbed Form](https://henke.lbl.gov/optical_constants/pert_form.html)\n",
    "- [Optical Constants - Database Access](https://henke.lbl.gov/optical_constants/getdb2.html)\n"
   ]
  },
  {
   "cell_type": "markdown",
   "id": "b205fa09",
   "metadata": {},
   "source": [
    "---\n",
    "#### Solution\n",
    "_- solve the exercise beneath using markdown and/or code blocks -_"
   ]
  },
  {
   "cell_type": "code",
   "execution_count": null,
   "id": "dee85c9a",
   "metadata": {},
   "outputs": [],
   "source": []
  },
  {
   "cell_type": "markdown",
   "id": "ecd622a8",
   "metadata": {},
   "source": [
    "---\n",
    "### Exercise 2\n",
    "\n",
    "A binary Fresnel zone plate has an outer zone width of 50 nm and a depth of 20 times the width, filled with gold (Au). The lens delivers an absolute phase shift of $ k\\delta l = \\pi $, where $ k $ is the wave number, $ \\delta $ is the refractive index increment, and $ l $ is the depth of the zone plate. The diameter $ D $ of the lens is 100 µm. \n",
    "\n",
    "**Tasks:**\n",
    "1. Determine the wavelength $ \\lambda $.\n",
    "2. Calculate the first-order focal length $ f $.\n",
    "3. Estimate the depth of focus.\n",
    "\n",
    "**Assumptions and Given Data:**\n",
    "- The real part of the refractive index increment for purely scattering media is given by:\n",
    "  $\n",
    "  \\delta = \\frac{2\\pi \\rho r_0}{k^2}\n",
    "  $\n",
    "  where:\n",
    "  - $ \\rho = 4.687 $ electrons/Å$^3$ (electron density of Au),\n",
    "  - $ r_0 = 2.82 \\times 10^{-5} $ Å (scattering amplitude per electron).\n",
    "- The depth of focus can be estimated as the resolution divided by the aperture of the zone plate, where the aperture $ A = D/f $.\n",
    "\n",
    "**Reference:**\n",
    "This question is adapted from *Elements of Modern X‐ray Physics* by J. Als-Nielsen and D. McMorrow (Second Edition, Chapter 9, DOI: 10.1002/9781119998365).\n"
   ]
  },
  {
   "cell_type": "markdown",
   "id": "9002e09e",
   "metadata": {},
   "source": [
    "---\n",
    "#### Solution\n",
    "_- solve the exercise beneath using markdown and/or code blocks -_"
   ]
  },
  {
   "cell_type": "code",
   "execution_count": null,
   "id": "997e330a",
   "metadata": {},
   "outputs": [],
   "source": []
  },
  {
   "cell_type": "markdown",
   "id": "48c6cc8c",
   "metadata": {},
   "source": [
    "---\n",
    "### Exercise 3\n",
    "\n",
    "The file `AMS_DATA_zincite.txt` contains data on the diffraction properties of ZnO (zincite) from the AMS database. The d-spacing values are provided in Ångströms (Å).\n",
    "\n",
    "**Tasks:**\n",
    "1. Using a line detector, compute the required **lateral translation** for various detector distances, ranging from **0.5 cm to 10 cm** in increments of **0.5 cm**.\n",
    "2. Ensure that the (200) reflection is measured in the middle of the detector for photon energies between **5 keV and 80 keV** in **1 keV steps**.\n",
    "3. By default, the center of the detector is aligned with the undiffracted beam.\n",
    "4. Create a **3D plot** showing the relationship between the detector distances and the photon energies.\n",
    "\n",
    "**Given Constants:**\n",
    "- Speed of light, $ c = 3 \\times 10^8 \\, \\text{m/s} $\n",
    "- Planck's constant, $ h = 4.136 \\times 10^{-15} \\, \\text{eV} \\cdot \\text{s} $\n",
    "\n",
    "**Hint:**\n",
    "- You have to read the d-spacing from the `AMS_DATA_zincite.txt` file\n",
    "- Inform about **Miller indices** (hkl) and use [Link](http://calistry.org/calculate/latticePlanesMillerIndices) to visualize the reflection adressed in the excercise"
   ]
  },
  {
   "cell_type": "markdown",
   "metadata": {},
   "source": [
    "---\n",
    "#### Solution\n",
    "_- solve the exercise beneath using markdown and/or code blocks -_"
   ]
  },
  {
   "cell_type": "code",
   "execution_count": null,
   "id": "0d0304bf",
   "metadata": {},
   "outputs": [],
   "source": []
  }
 ],
 "metadata": {
  "kernelspec": {
   "display_name": "Python 3 (ipykernel)",
   "language": "python",
   "name": "python3"
  },
  "language_info": {
   "codemirror_mode": {
    "name": "ipython",
    "version": 3
   },
   "file_extension": ".py",
   "mimetype": "text/x-python",
   "name": "python",
   "nbconvert_exporter": "python",
   "pygments_lexer": "ipython3",
   "version": "3.9.13"
  }
 },
 "nbformat": 4,
 "nbformat_minor": 5
}
